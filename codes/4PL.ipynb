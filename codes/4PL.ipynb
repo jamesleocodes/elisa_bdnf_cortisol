{
 "cells": [
  {
   "cell_type": "markdown",
   "metadata": {},
   "source": [
    "#### Introdcution\n",
    "The BDNF(Brain-Derived Neurotrophic Factor) levels was measureed by using Elisa test kit(LsBio). The whole blood was withdrawn by using infusion kits and syringe. The purpose of this analysis to determine which method can achieved the highest BDNF levels and the subject's BDNF level."
   ]
  },
  {
   "cell_type": "code",
   "execution_count": 158,
   "metadata": {},
   "outputs": [],
   "source": [
    "\"\"\"\n",
    "Created on Tuesday 8 Nov 2022\n",
    "Author: ZMW\n",
    "\"\"\"\n",
    "#import libraries\n",
    "import pandas as pd\n",
    "import numpy as np\n",
    "import os\n",
    "import matplotlib.pyplot as plt\n",
    "import statistics\n",
    "from scipy.optimize import curve_fit\n",
    "from sklearn.metrics import r2_score\n",
    "import numpy.random as npr\n",
    "from scipy.optimize import leastsq\n",
    "import warnings\n",
    "warnings.filterwarnings('ignore')"
   ]
  },
  {
   "cell_type": "code",
   "execution_count": 61,
   "metadata": {},
   "outputs": [],
   "source": [
    "#data path\n",
    "path = os.getcwd()\n",
    "dirname = os.path.dirname(path)\n",
    "data_file = 'data/241022_raw.xlsx'\n",
    "data_path = os.path.join(dirname,data_file)"
   ]
  },
  {
   "cell_type": "code",
   "execution_count": 62,
   "metadata": {},
   "outputs": [],
   "source": [
    "#Load the fitted dataset\n",
    "data = pd.read_excel(data_path)\n",
    "data = data.iloc[9:17,7:13]#slice rows and columns where data exist\n",
    "#data = data.loc[:,~data.columns.str.contains('Unnamed')]\n",
    "data.columns = ['STD_1','Sample_1','Sample_2','Sample_3','Sample_4','STD_2']\n"
   ]
  },
  {
   "cell_type": "markdown",
   "metadata": {},
   "source": [
    "#### Plate layout"
   ]
  },
  {
   "cell_type": "markdown",
   "metadata": {},
   "source": [
    "|  Standard | Sample | Sample | Sample  |  Sample | Standard  |\n",
    "|---|---|---|---|---|---|\n",
    "|  -ve control | Blank | Ci  | Blank  |  Ci | -ve control  |\n",
    "|  SD7 |  -ve control |  Ci | -ve control  | Ci  |  SD7 |\n",
    "|  SD6 | Vi  |  Cs | Vi  | Cs  |  SD6 |\n",
    "|  SD5 |  Vi|  Cs |  Vi | Cs  |  SD5 |\n",
    "|  SD4 |  Si |   Ai|   Si|  Ai | SD4  |\n",
    "|  SD3 |   Si|  Ai |  Si |  Ai | SD3  |\n",
    "|  SD2 |  Zi|  As | Zi  |  As |   SD2|\n",
    "|  SD1 |   Zi|   As|  Zi | As  |  SD1 |"
   ]
  },
  {
   "cell_type": "markdown",
   "metadata": {},
   "source": [
    "### Raw"
   ]
  },
  {
   "cell_type": "code",
   "execution_count": 63,
   "metadata": {},
   "outputs": [
    {
     "data": {
      "text/html": [
       "<div>\n",
       "<style scoped>\n",
       "    .dataframe tbody tr th:only-of-type {\n",
       "        vertical-align: middle;\n",
       "    }\n",
       "\n",
       "    .dataframe tbody tr th {\n",
       "        vertical-align: top;\n",
       "    }\n",
       "\n",
       "    .dataframe thead th {\n",
       "        text-align: right;\n",
       "    }\n",
       "</style>\n",
       "<table border=\"1\" class=\"dataframe\">\n",
       "  <thead>\n",
       "    <tr style=\"text-align: right;\">\n",
       "      <th></th>\n",
       "      <th>STD_1</th>\n",
       "      <th>Sample_1</th>\n",
       "      <th>Sample_2</th>\n",
       "      <th>Sample_3</th>\n",
       "      <th>Sample_4</th>\n",
       "      <th>STD_2</th>\n",
       "    </tr>\n",
       "  </thead>\n",
       "  <tbody>\n",
       "    <tr>\n",
       "      <th>9</th>\n",
       "      <td>0.0931</td>\n",
       "      <td>0.0351</td>\n",
       "      <td>2.7998</td>\n",
       "      <td>0.0438</td>\n",
       "      <td>1.401</td>\n",
       "      <td>0.0994</td>\n",
       "    </tr>\n",
       "    <tr>\n",
       "      <th>10</th>\n",
       "      <td>0.1334</td>\n",
       "      <td>0.0929</td>\n",
       "      <td>3.0572</td>\n",
       "      <td>0.091</td>\n",
       "      <td>1.3684</td>\n",
       "      <td>0.1147</td>\n",
       "    </tr>\n",
       "    <tr>\n",
       "      <th>11</th>\n",
       "      <td>0.1924</td>\n",
       "      <td>3.1344</td>\n",
       "      <td>3.0423</td>\n",
       "      <td>1.33</td>\n",
       "      <td>1.6039</td>\n",
       "      <td>0.1514</td>\n",
       "    </tr>\n",
       "    <tr>\n",
       "      <th>12</th>\n",
       "      <td>0.3013</td>\n",
       "      <td>3.3709</td>\n",
       "      <td>3.1532</td>\n",
       "      <td>1.4458</td>\n",
       "      <td>1.6948</td>\n",
       "      <td>0.2402</td>\n",
       "    </tr>\n",
       "    <tr>\n",
       "      <th>13</th>\n",
       "      <td>0.6267</td>\n",
       "      <td>3.0312</td>\n",
       "      <td>2.7925</td>\n",
       "      <td>1.3785</td>\n",
       "      <td>1.1714</td>\n",
       "      <td>0.4424</td>\n",
       "    </tr>\n",
       "    <tr>\n",
       "      <th>14</th>\n",
       "      <td>1.3532</td>\n",
       "      <td>2.9934</td>\n",
       "      <td>2.5798</td>\n",
       "      <td>1.3458</td>\n",
       "      <td>1.1146</td>\n",
       "      <td>0.9998</td>\n",
       "    </tr>\n",
       "    <tr>\n",
       "      <th>15</th>\n",
       "      <td>2.0369</td>\n",
       "      <td>2.7111</td>\n",
       "      <td>2.5806</td>\n",
       "      <td>1.1648</td>\n",
       "      <td>1.1583</td>\n",
       "      <td>1.8307</td>\n",
       "    </tr>\n",
       "    <tr>\n",
       "      <th>16</th>\n",
       "      <td>3.0215</td>\n",
       "      <td>2.5999</td>\n",
       "      <td>2.6795</td>\n",
       "      <td>1.1916</td>\n",
       "      <td>1.167</td>\n",
       "      <td>2.5033</td>\n",
       "    </tr>\n",
       "  </tbody>\n",
       "</table>\n",
       "</div>"
      ],
      "text/plain": [
       "     STD_1 Sample_1 Sample_2 Sample_3 Sample_4   STD_2\n",
       "9   0.0931   0.0351   2.7998   0.0438    1.401  0.0994\n",
       "10  0.1334   0.0929   3.0572    0.091   1.3684  0.1147\n",
       "11  0.1924   3.1344   3.0423     1.33   1.6039  0.1514\n",
       "12  0.3013   3.3709   3.1532   1.4458   1.6948  0.2402\n",
       "13  0.6267   3.0312   2.7925   1.3785   1.1714  0.4424\n",
       "14  1.3532   2.9934   2.5798   1.3458   1.1146  0.9998\n",
       "15  2.0369   2.7111   2.5806   1.1648   1.1583  1.8307\n",
       "16  3.0215   2.5999   2.6795   1.1916    1.167  2.5033"
      ]
     },
     "execution_count": 63,
     "metadata": {},
     "output_type": "execute_result"
    }
   ],
   "source": [
    "data"
   ]
  },
  {
   "cell_type": "markdown",
   "metadata": {},
   "source": [
    "### Blank correction"
   ]
  },
  {
   "cell_type": "code",
   "execution_count": 64,
   "metadata": {},
   "outputs": [],
   "source": [
    "blank_average = (data.iloc[0,1] + data.iloc[0,3])/2\n"
   ]
  },
  {
   "cell_type": "code",
   "execution_count": 65,
   "metadata": {},
   "outputs": [],
   "source": [
    "blank_corrected = data - blank_average"
   ]
  },
  {
   "cell_type": "code",
   "execution_count": 66,
   "metadata": {},
   "outputs": [
    {
     "data": {
      "text/html": [
       "<div>\n",
       "<style scoped>\n",
       "    .dataframe tbody tr th:only-of-type {\n",
       "        vertical-align: middle;\n",
       "    }\n",
       "\n",
       "    .dataframe tbody tr th {\n",
       "        vertical-align: top;\n",
       "    }\n",
       "\n",
       "    .dataframe thead th {\n",
       "        text-align: right;\n",
       "    }\n",
       "</style>\n",
       "<table border=\"1\" class=\"dataframe\">\n",
       "  <thead>\n",
       "    <tr style=\"text-align: right;\">\n",
       "      <th></th>\n",
       "      <th>STD_1</th>\n",
       "      <th>Sample_1</th>\n",
       "      <th>Sample_2</th>\n",
       "      <th>Sample_3</th>\n",
       "      <th>Sample_4</th>\n",
       "      <th>STD_2</th>\n",
       "    </tr>\n",
       "  </thead>\n",
       "  <tbody>\n",
       "    <tr>\n",
       "      <th>9</th>\n",
       "      <td>0.05365</td>\n",
       "      <td>-0.00435</td>\n",
       "      <td>2.76035</td>\n",
       "      <td>0.00435</td>\n",
       "      <td>1.36155</td>\n",
       "      <td>0.05995</td>\n",
       "    </tr>\n",
       "    <tr>\n",
       "      <th>10</th>\n",
       "      <td>0.09395</td>\n",
       "      <td>0.05345</td>\n",
       "      <td>3.01775</td>\n",
       "      <td>0.05155</td>\n",
       "      <td>1.32895</td>\n",
       "      <td>0.07525</td>\n",
       "    </tr>\n",
       "    <tr>\n",
       "      <th>11</th>\n",
       "      <td>0.15295</td>\n",
       "      <td>3.09495</td>\n",
       "      <td>3.00285</td>\n",
       "      <td>1.29055</td>\n",
       "      <td>1.56445</td>\n",
       "      <td>0.11195</td>\n",
       "    </tr>\n",
       "    <tr>\n",
       "      <th>12</th>\n",
       "      <td>0.26185</td>\n",
       "      <td>3.33145</td>\n",
       "      <td>3.11375</td>\n",
       "      <td>1.40635</td>\n",
       "      <td>1.65535</td>\n",
       "      <td>0.20075</td>\n",
       "    </tr>\n",
       "    <tr>\n",
       "      <th>13</th>\n",
       "      <td>0.58725</td>\n",
       "      <td>2.99175</td>\n",
       "      <td>2.75305</td>\n",
       "      <td>1.33905</td>\n",
       "      <td>1.13195</td>\n",
       "      <td>0.40295</td>\n",
       "    </tr>\n",
       "    <tr>\n",
       "      <th>14</th>\n",
       "      <td>1.31375</td>\n",
       "      <td>2.95395</td>\n",
       "      <td>2.54035</td>\n",
       "      <td>1.30635</td>\n",
       "      <td>1.07515</td>\n",
       "      <td>0.96035</td>\n",
       "    </tr>\n",
       "    <tr>\n",
       "      <th>15</th>\n",
       "      <td>1.99745</td>\n",
       "      <td>2.67165</td>\n",
       "      <td>2.54115</td>\n",
       "      <td>1.12535</td>\n",
       "      <td>1.11885</td>\n",
       "      <td>1.79125</td>\n",
       "    </tr>\n",
       "    <tr>\n",
       "      <th>16</th>\n",
       "      <td>2.98205</td>\n",
       "      <td>2.56045</td>\n",
       "      <td>2.64005</td>\n",
       "      <td>1.15215</td>\n",
       "      <td>1.12755</td>\n",
       "      <td>2.46385</td>\n",
       "    </tr>\n",
       "  </tbody>\n",
       "</table>\n",
       "</div>"
      ],
      "text/plain": [
       "      STD_1 Sample_1 Sample_2 Sample_3 Sample_4    STD_2\n",
       "9   0.05365 -0.00435  2.76035  0.00435  1.36155  0.05995\n",
       "10  0.09395  0.05345  3.01775  0.05155  1.32895  0.07525\n",
       "11  0.15295  3.09495  3.00285  1.29055  1.56445  0.11195\n",
       "12  0.26185  3.33145  3.11375  1.40635  1.65535  0.20075\n",
       "13  0.58725  2.99175  2.75305  1.33905  1.13195  0.40295\n",
       "14  1.31375  2.95395  2.54035  1.30635  1.07515  0.96035\n",
       "15  1.99745  2.67165  2.54115  1.12535  1.11885  1.79125\n",
       "16  2.98205  2.56045  2.64005  1.15215  1.12755  2.46385"
      ]
     },
     "execution_count": 66,
     "metadata": {},
     "output_type": "execute_result"
    }
   ],
   "source": [
    "blank_corrected"
   ]
  },
  {
   "cell_type": "markdown",
   "metadata": {},
   "source": [
    "### Average concentration"
   ]
  },
  {
   "cell_type": "code",
   "execution_count": 87,
   "metadata": {},
   "outputs": [],
   "source": [
    "run_1 = [blank_corrected.iloc[2,1],blank_corrected.iloc[4,1],blank_corrected.iloc[6,1],blank_corrected.iloc[0,2],blank_corrected.iloc[2,2],blank_corrected.iloc[4,2],blank_corrected.iloc[6,2]]"
   ]
  },
  {
   "cell_type": "code",
   "execution_count": 86,
   "metadata": {},
   "outputs": [],
   "source": [
    "run_2 = [blank_corrected.iloc[3,1],blank_corrected.iloc[5,1],blank_corrected.iloc[7,1],blank_corrected.iloc[1,2],blank_corrected.iloc[3,2],blank_corrected.iloc[5,2],blank_corrected.iloc[7,2]]"
   ]
  },
  {
   "cell_type": "code",
   "execution_count": 262,
   "metadata": {},
   "outputs": [],
   "source": [
    "# standard deviation\n",
    "stdev_1 = statistics.stdev([blank_corrected.iloc[2,1],blank_corrected.iloc[3,1]])\n",
    "stdev_2 = statistics.stdev([blank_corrected.iloc[4,1],blank_corrected.iloc[5,1]])\n",
    "stdev_3 = statistics.stdev([blank_corrected.iloc[6,1],blank_corrected.iloc[7,1]])\n",
    "stdev_4 = statistics.stdev([blank_corrected.iloc[0,2],blank_corrected.iloc[1,2]])\n",
    "stdev_5 = statistics.stdev([blank_corrected.iloc[2,2],blank_corrected.iloc[3,2]])\n",
    "stdev_6 = statistics.stdev([blank_corrected.iloc[4,2],blank_corrected.iloc[5,2]])\n",
    "stdev_7 = statistics.stdev([blank_corrected.iloc[6,2],blank_corrected.iloc[7,2]])\n",
    "\n",
    "# average\n",
    "mean_1 = statistics.mean([blank_corrected.iloc[2,1],blank_corrected.iloc[3,1]])\n",
    "mean_2 = statistics.mean([blank_corrected.iloc[4,1],blank_corrected.iloc[5,1]])\n",
    "mean_3 = statistics.mean([blank_corrected.iloc[6,1],blank_corrected.iloc[7,1]])\n",
    "mean_4 = statistics.mean([blank_corrected.iloc[0,2],blank_corrected.iloc[1,2]])\n",
    "mean_5 = statistics.mean([blank_corrected.iloc[2,2],blank_corrected.iloc[3,2]])\n",
    "mean_6 = statistics.mean([blank_corrected.iloc[4,2],blank_corrected.iloc[5,2]])\n",
    "mean_7 = statistics.mean([blank_corrected.iloc[6,2],blank_corrected.iloc[7,2]])\n",
    "\n",
    "# cv(%)\n",
    "cv_1 = (stdev_1/mean_1)*100\n",
    "cv_2 = (stdev_2/mean_2)*100\n",
    "cv_3 = (stdev_3/mean_3)*100\n",
    "cv_4 = (stdev_4/mean_4)*100\n",
    "cv_5 = (stdev_5/mean_5)*100\n",
    "cv_6 = (stdev_6/mean_6)*100\n",
    "cv_7 = (stdev_7/mean_7)*100"
   ]
  },
  {
   "cell_type": "code",
   "execution_count": 281,
   "metadata": {},
   "outputs": [
    {
     "data": {
      "text/html": [
       "<div>\n",
       "<style scoped>\n",
       "    .dataframe tbody tr th:only-of-type {\n",
       "        vertical-align: middle;\n",
       "    }\n",
       "\n",
       "    .dataframe tbody tr th {\n",
       "        vertical-align: top;\n",
       "    }\n",
       "\n",
       "    .dataframe thead th {\n",
       "        text-align: right;\n",
       "    }\n",
       "</style>\n",
       "<table border=\"1\" class=\"dataframe\">\n",
       "  <thead>\n",
       "    <tr style=\"text-align: right;\">\n",
       "      <th></th>\n",
       "      <th>samples</th>\n",
       "      <th>Run_1</th>\n",
       "      <th>Run_2</th>\n",
       "      <th>SD</th>\n",
       "      <th>CV(%)</th>\n",
       "      <th>avg_samples</th>\n",
       "    </tr>\n",
       "  </thead>\n",
       "  <tbody>\n",
       "    <tr>\n",
       "      <th>0</th>\n",
       "      <td>Vi</td>\n",
       "      <td>3.09495</td>\n",
       "      <td>3.33145</td>\n",
       "      <td>0.167231</td>\n",
       "      <td>5.204493</td>\n",
       "      <td>3.21320</td>\n",
       "    </tr>\n",
       "    <tr>\n",
       "      <th>1</th>\n",
       "      <td>Si</td>\n",
       "      <td>2.99175</td>\n",
       "      <td>2.95395</td>\n",
       "      <td>0.026729</td>\n",
       "      <td>0.899091</td>\n",
       "      <td>2.97285</td>\n",
       "    </tr>\n",
       "    <tr>\n",
       "      <th>2</th>\n",
       "      <td>Zi</td>\n",
       "      <td>2.67165</td>\n",
       "      <td>2.56045</td>\n",
       "      <td>0.078630</td>\n",
       "      <td>3.005687</td>\n",
       "      <td>2.61605</td>\n",
       "    </tr>\n",
       "    <tr>\n",
       "      <th>3</th>\n",
       "      <td>Ci</td>\n",
       "      <td>2.76035</td>\n",
       "      <td>3.01775</td>\n",
       "      <td>0.182009</td>\n",
       "      <td>6.299970</td>\n",
       "      <td>2.88905</td>\n",
       "    </tr>\n",
       "    <tr>\n",
       "      <th>4</th>\n",
       "      <td>Cs</td>\n",
       "      <td>3.00285</td>\n",
       "      <td>3.11375</td>\n",
       "      <td>0.078418</td>\n",
       "      <td>2.564109</td>\n",
       "      <td>3.05830</td>\n",
       "    </tr>\n",
       "    <tr>\n",
       "      <th>5</th>\n",
       "      <td>Ai</td>\n",
       "      <td>2.75305</td>\n",
       "      <td>2.54035</td>\n",
       "      <td>0.150402</td>\n",
       "      <td>5.682609</td>\n",
       "      <td>2.64670</td>\n",
       "    </tr>\n",
       "    <tr>\n",
       "      <th>6</th>\n",
       "      <td>As</td>\n",
       "      <td>2.54115</td>\n",
       "      <td>2.64005</td>\n",
       "      <td>0.069933</td>\n",
       "      <td>2.699485</td>\n",
       "      <td>2.59060</td>\n",
       "    </tr>\n",
       "  </tbody>\n",
       "</table>\n",
       "</div>"
      ],
      "text/plain": [
       "  samples    Run_1    Run_2        SD     CV(%)  avg_samples\n",
       "0      Vi  3.09495  3.33145  0.167231  5.204493      3.21320\n",
       "1      Si  2.99175  2.95395  0.026729  0.899091      2.97285\n",
       "2      Zi  2.67165  2.56045  0.078630  3.005687      2.61605\n",
       "3      Ci  2.76035  3.01775  0.182009  6.299970      2.88905\n",
       "4      Cs  3.00285  3.11375  0.078418  2.564109      3.05830\n",
       "5      Ai  2.75305  2.54035  0.150402  5.682609      2.64670\n",
       "6      As  2.54115  2.64005  0.069933  2.699485      2.59060"
      ]
     },
     "execution_count": 281,
     "metadata": {},
     "output_type": "execute_result"
    }
   ],
   "source": [
    "col = {'samples':['Vi','Si','Zi','Ci','Cs','Ai','As'],'Run_1':run_1,'Run_2':run_2,'SD':[stdev_1,stdev_2,stdev_3,stdev_4,stdev_5,stdev_6,stdev_7],'CV(%)':[cv_1,cv_2,cv_3,cv_4,cv_5,cv_6,cv_7]}\n",
    "samples = pd.DataFrame.from_dict(col)\n",
    "samples['avg_samples'] = [mean_1,mean_2,mean_3,mean_4,mean_5,mean_6,mean_7]\n",
    "samples"
   ]
  },
  {
   "cell_type": "markdown",
   "metadata": {},
   "source": [
    "### Standard "
   ]
  },
  {
   "cell_type": "code",
   "execution_count": 255,
   "metadata": {},
   "outputs": [
    {
     "data": {
      "text/html": [
       "<div>\n",
       "<style scoped>\n",
       "    .dataframe tbody tr th:only-of-type {\n",
       "        vertical-align: middle;\n",
       "    }\n",
       "\n",
       "    .dataframe tbody tr th {\n",
       "        vertical-align: top;\n",
       "    }\n",
       "\n",
       "    .dataframe thead th {\n",
       "        text-align: right;\n",
       "    }\n",
       "</style>\n",
       "<table border=\"1\" class=\"dataframe\">\n",
       "  <thead>\n",
       "    <tr style=\"text-align: right;\">\n",
       "      <th></th>\n",
       "      <th>avg_std</th>\n",
       "      <th>concentrations(ng/ml)</th>\n",
       "    </tr>\n",
       "  </thead>\n",
       "  <tbody>\n",
       "    <tr>\n",
       "      <th>10</th>\n",
       "      <td>0.0846</td>\n",
       "      <td>0.066</td>\n",
       "    </tr>\n",
       "    <tr>\n",
       "      <th>11</th>\n",
       "      <td>0.13245</td>\n",
       "      <td>0.164</td>\n",
       "    </tr>\n",
       "    <tr>\n",
       "      <th>12</th>\n",
       "      <td>0.2313</td>\n",
       "      <td>0.410</td>\n",
       "    </tr>\n",
       "    <tr>\n",
       "      <th>13</th>\n",
       "      <td>0.4951</td>\n",
       "      <td>1.024</td>\n",
       "    </tr>\n",
       "    <tr>\n",
       "      <th>14</th>\n",
       "      <td>1.13705</td>\n",
       "      <td>2.560</td>\n",
       "    </tr>\n",
       "    <tr>\n",
       "      <th>15</th>\n",
       "      <td>1.89435</td>\n",
       "      <td>6.400</td>\n",
       "    </tr>\n",
       "    <tr>\n",
       "      <th>16</th>\n",
       "      <td>2.72295</td>\n",
       "      <td>16.000</td>\n",
       "    </tr>\n",
       "  </tbody>\n",
       "</table>\n",
       "</div>"
      ],
      "text/plain": [
       "    avg_std  concentrations(ng/ml)\n",
       "10   0.0846                  0.066\n",
       "11  0.13245                  0.164\n",
       "12   0.2313                  0.410\n",
       "13   0.4951                  1.024\n",
       "14  1.13705                  2.560\n",
       "15  1.89435                  6.400\n",
       "16  2.72295                 16.000"
      ]
     },
     "execution_count": 255,
     "metadata": {},
     "output_type": "execute_result"
    }
   ],
   "source": [
    "avg_std = (blank_corrected.iloc[1:,0] + blank_corrected.iloc[1:,5])/2\n",
    "concen_ng_ml =  [0.066, 0.164, 0.41, 1.024, 2.56, 6.4, 16]\n",
    "std = {'avg_std':avg_std,'concentrations(ng/ml)':concen_ng_ml}\n",
    "df_std = pd.DataFrame(std)\n",
    "df_std"
   ]
  },
  {
   "cell_type": "markdown",
   "metadata": {},
   "source": [
    "### 4PL curve fitting"
   ]
  },
  {
   "cell_type": "code",
   "execution_count": 129,
   "metadata": {},
   "outputs": [],
   "source": [
    "# define function\n",
    "def logistic_4(x, A, B, C, D):\n",
    "    \"\"\" 4PL logistic equation\"\"\"\n",
    "    return ((A-D)/(1.0+((x/C)**B))) + D"
   ]
  },
  {
   "cell_type": "code",
   "execution_count": 238,
   "metadata": {},
   "outputs": [],
   "source": [
    "# initial guesses\n",
    "InitialGuess = [0.0846, 1.13705, 1.89435, 2.72295]"
   ]
  },
  {
   "cell_type": "code",
   "execution_count": 239,
   "metadata": {},
   "outputs": [],
   "source": [
    "x = df_std['avg_std'].values.flatten()\n",
    "y = df_std['concentrations(ng/ml)'].values.flatten()"
   ]
  },
  {
   "cell_type": "code",
   "execution_count": 246,
   "metadata": {},
   "outputs": [
    {
     "name": "stdout",
     "output_type": "stream",
     "text": [
      "ET fit R^2:  0.9971478134466123\n"
     ]
    }
   ],
   "source": [
    "#curve fit data into model\n",
    "ET_popt, ET_pcov = curve_fit(logistic_4, x, y, p0=InitialGuess)\n",
    "ET_perr = np.sqrt(np.diag(ET_pcov))\n",
    "\n",
    "y_pred = logistic_4(x, *ET_popt)\n",
    "\n",
    "R_sq_ET = r2_score(y_pred, y)\n",
    "\n",
    "#print(ET_popt) # print fitted parameters\n",
    "print(\"ET fit R^2: \", R_sq_ET)"
   ]
  },
  {
   "cell_type": "code",
   "execution_count": 245,
   "metadata": {},
   "outputs": [
    {
     "data": {
      "image/png": "[encoded data removed]",
      "text/plain": [
       "<Figure size 432x288 with 1 Axes>"
      ]
     },
     "metadata": {
      "needs_background": "light"
     },
     "output_type": "display_data"
    }
   ],
   "source": [
    "plt.scatter(x,y,label='Data')\n",
    "plt.plot(x, logistic_4(x, *ET_popt), 'r', label=\"Model\")\n",
    "plt.legend()\n",
    "plt.show()"
   ]
  },
  {
   "cell_type": "code",
   "execution_count": 282,
   "metadata": {},
   "outputs": [
    {
     "data": {
      "text/html": [
       "<div>\n",
       "<style scoped>\n",
       "    .dataframe tbody tr th:only-of-type {\n",
       "        vertical-align: middle;\n",
       "    }\n",
       "\n",
       "    .dataframe tbody tr th {\n",
       "        vertical-align: top;\n",
       "    }\n",
       "\n",
       "    .dataframe thead th {\n",
       "        text-align: right;\n",
       "    }\n",
       "</style>\n",
       "<table border=\"1\" class=\"dataframe\">\n",
       "  <thead>\n",
       "    <tr style=\"text-align: right;\">\n",
       "      <th></th>\n",
       "      <th>samples</th>\n",
       "      <th>Run_1</th>\n",
       "      <th>Run_2</th>\n",
       "      <th>SD</th>\n",
       "      <th>CV(%)</th>\n",
       "      <th>avg_samples</th>\n",
       "    </tr>\n",
       "  </thead>\n",
       "  <tbody>\n",
       "    <tr>\n",
       "      <th>0</th>\n",
       "      <td>Vi</td>\n",
       "      <td>3.09495</td>\n",
       "      <td>3.33145</td>\n",
       "      <td>0.167231</td>\n",
       "      <td>5.204493</td>\n",
       "      <td>3.21320</td>\n",
       "    </tr>\n",
       "    <tr>\n",
       "      <th>1</th>\n",
       "      <td>Si</td>\n",
       "      <td>2.99175</td>\n",
       "      <td>2.95395</td>\n",
       "      <td>0.026729</td>\n",
       "      <td>0.899091</td>\n",
       "      <td>2.97285</td>\n",
       "    </tr>\n",
       "    <tr>\n",
       "      <th>2</th>\n",
       "      <td>Zi</td>\n",
       "      <td>2.67165</td>\n",
       "      <td>2.56045</td>\n",
       "      <td>0.078630</td>\n",
       "      <td>3.005687</td>\n",
       "      <td>2.61605</td>\n",
       "    </tr>\n",
       "    <tr>\n",
       "      <th>3</th>\n",
       "      <td>Ci</td>\n",
       "      <td>2.76035</td>\n",
       "      <td>3.01775</td>\n",
       "      <td>0.182009</td>\n",
       "      <td>6.299970</td>\n",
       "      <td>2.88905</td>\n",
       "    </tr>\n",
       "    <tr>\n",
       "      <th>4</th>\n",
       "      <td>Cs</td>\n",
       "      <td>3.00285</td>\n",
       "      <td>3.11375</td>\n",
       "      <td>0.078418</td>\n",
       "      <td>2.564109</td>\n",
       "      <td>3.05830</td>\n",
       "    </tr>\n",
       "    <tr>\n",
       "      <th>5</th>\n",
       "      <td>Ai</td>\n",
       "      <td>2.75305</td>\n",
       "      <td>2.54035</td>\n",
       "      <td>0.150402</td>\n",
       "      <td>5.682609</td>\n",
       "      <td>2.64670</td>\n",
       "    </tr>\n",
       "    <tr>\n",
       "      <th>6</th>\n",
       "      <td>As</td>\n",
       "      <td>2.54115</td>\n",
       "      <td>2.64005</td>\n",
       "      <td>0.069933</td>\n",
       "      <td>2.699485</td>\n",
       "      <td>2.59060</td>\n",
       "    </tr>\n",
       "  </tbody>\n",
       "</table>\n",
       "</div>"
      ],
      "text/plain": [
       "  samples    Run_1    Run_2        SD     CV(%)  avg_samples\n",
       "0      Vi  3.09495  3.33145  0.167231  5.204493      3.21320\n",
       "1      Si  2.99175  2.95395  0.026729  0.899091      2.97285\n",
       "2      Zi  2.67165  2.56045  0.078630  3.005687      2.61605\n",
       "3      Ci  2.76035  3.01775  0.182009  6.299970      2.88905\n",
       "4      Cs  3.00285  3.11375  0.078418  2.564109      3.05830\n",
       "5      Ai  2.75305  2.54035  0.150402  5.682609      2.64670\n",
       "6      As  2.54115  2.64005  0.069933  2.699485      2.59060"
      ]
     },
     "execution_count": 282,
     "metadata": {},
     "output_type": "execute_result"
    }
   ],
   "source": [
    "samples"
   ]
  },
  {
   "cell_type": "markdown",
   "metadata": {},
   "source": [
    "### Computed values"
   ]
  },
  {
   "cell_type": "code",
   "execution_count": 315,
   "metadata": {},
   "outputs": [
    {
     "data": {
      "text/html": [
       "<div>\n",
       "<style scoped>\n",
       "    .dataframe tbody tr th:only-of-type {\n",
       "        vertical-align: middle;\n",
       "    }\n",
       "\n",
       "    .dataframe tbody tr th {\n",
       "        vertical-align: top;\n",
       "    }\n",
       "\n",
       "    .dataframe thead th {\n",
       "        text-align: right;\n",
       "    }\n",
       "</style>\n",
       "<table border=\"1\" class=\"dataframe\">\n",
       "  <thead>\n",
       "    <tr style=\"text-align: right;\">\n",
       "      <th></th>\n",
       "      <th>samples</th>\n",
       "      <th>OD</th>\n",
       "    </tr>\n",
       "  </thead>\n",
       "  <tbody>\n",
       "    <tr>\n",
       "      <th>0</th>\n",
       "      <td>Vi</td>\n",
       "      <td>237.562427</td>\n",
       "    </tr>\n",
       "    <tr>\n",
       "      <th>1</th>\n",
       "      <td>Si</td>\n",
       "      <td>196.758735</td>\n",
       "    </tr>\n",
       "    <tr>\n",
       "      <th>2</th>\n",
       "      <td>Zi</td>\n",
       "      <td>144.548300</td>\n",
       "    </tr>\n",
       "    <tr>\n",
       "      <th>3</th>\n",
       "      <td>Ci</td>\n",
       "      <td>183.613702</td>\n",
       "    </tr>\n",
       "    <tr>\n",
       "      <th>4</th>\n",
       "      <td>Cs</td>\n",
       "      <td>210.733870</td>\n",
       "    </tr>\n",
       "    <tr>\n",
       "      <th>5</th>\n",
       "      <td>Ai</td>\n",
       "      <td>148.652794</td>\n",
       "    </tr>\n",
       "    <tr>\n",
       "      <th>6</th>\n",
       "      <td>As</td>\n",
       "      <td>141.193331</td>\n",
       "    </tr>\n",
       "  </tbody>\n",
       "</table>\n",
       "</div>"
      ],
      "text/plain": [
       "  samples          OD\n",
       "0      Vi  237.562427\n",
       "1      Si  196.758735\n",
       "2      Zi  144.548300\n",
       "3      Ci  183.613702\n",
       "4      Cs  210.733870\n",
       "5      Ai  148.652794\n",
       "6      As  141.193331"
      ]
     },
     "execution_count": 315,
     "metadata": {},
     "output_type": "execute_result"
    }
   ],
   "source": [
    "A, B , C, D = ET_popt\n",
    "comp_values= {'samples':['Vi','Si','Zi','Ci','Cs','Ai','As'],\n",
    "    'OD':[logistic_4(samples.iloc[0,5],A, B, C, D),logistic_4(samples.iloc[1,5],A, B, C, D),logistic_4(samples.iloc[2,5],A, B, C, D),\n",
    "          logistic_4(samples.iloc[3,5],A, B, C, D),logistic_4(samples.iloc[4,5],A, B, C, D),logistic_4(samples.iloc[5,5],A, B, C, D),\n",
    "          logistic_4(samples.iloc[6,5],A, B, C, D)]}\n",
    "df_comp = pd.DataFrame(comp_values)\n",
    "df_comp['OD']= df_comp['OD']*10\n",
    "df_comp"
   ]
  },
  {
   "cell_type": "code",
   "execution_count": 320,
   "metadata": {},
   "outputs": [
    {
     "data": {
      "image/png": "[encoded data removed]",
      "text/plain": [
       "<Figure size 576x432 with 1 Axes>"
      ]
     },
     "metadata": {
      "needs_background": "light"
     },
     "output_type": "display_data"
    }
   ],
   "source": [
    "ax = df_comp.plot.bar(x='samples',y='OD',rot=0,width=0.6,figsize=(8,6))\n",
    "plt.title('BDNF',fontsize=14)\n",
    "plt.xlabel('Subjects',fontsize=14)\n",
    "plt.ylabel('Concentrations (ng/ml)',fontsize=14)\n",
    "plt.xticks(fontsize=14)\n",
    "plt.yticks(fontsize=14)\n",
    "plt.show()\n"
   ]
  },
  {
   "cell_type": "code",
   "execution_count": 294,
   "metadata": {},
   "outputs": [
    {
     "data": {
      "image/png": "[encoded data removed]",
      "text/plain": [
       "<Figure size 432x288 with 1 Axes>"
      ]
     },
     "metadata": {
      "needs_background": "light"
     },
     "output_type": "display_data"
    }
   ],
   "source": [
    "# fit polynomial models up to degree 5\n",
    "model1 = np.poly1d(np.polyfit(x,y,1))\n",
    "model2 = np.poly1d(np.polyfit(x,y,2))\n",
    "model3 = np.poly1d(np.polyfit(x,y,3))\n",
    "model4 = np.poly1d(np.polyfit(x,y,4))\n",
    "model5 = np.poly1d(np.polyfit(x,y,5))\n",
    "\n",
    "#create scaterplot\n",
    "polyline = np.linspace(0, 5, 50)\n",
    "plt.scatter(x,y)\n",
    "\n",
    "#add fitted polynomial lines to scatterplot\n",
    "plt.plot(polyline,model1(polyline),color='green',label=\"model1\")\n",
    "plt.plot(polyline, model2(polyline),color='red',label='model2')\n",
    "plt.plot(polyline, model3(polyline),color='purple',label='model3')\n",
    "plt.plot(polyline, model4(polyline),color='blue',label='model4')\n",
    "plt.plot(polyline, model5(polyline),color='orange',label='model5')\n",
    "plt.xlabel('ABS',fontsize=12)\n",
    "plt.xticks(fontsize=12)\n",
    "plt.ylabel('Increasing Concentartions',fontsize=12)\n",
    "plt.yticks(fontsize=12)\n",
    "plt.legend()\n",
    "plt.show()"
   ]
  },
  {
   "cell_type": "code",
   "execution_count": 295,
   "metadata": {},
   "outputs": [
    {
     "data": {
      "image/png": "[encoded data removed]",
      "text/plain": [
       "<Figure size 432x288 with 1 Axes>"
      ]
     },
     "metadata": {
      "needs_background": "light"
     },
     "output_type": "display_data"
    }
   ],
   "source": [
    "# visualize the final curve\n",
    "model5 = np.poly1d(np.polyfit(x,y,5))\n",
    "\n",
    "# #define scatterplot\n",
    "polyline = np.linspace(0.09,5,50)\n",
    "# points_size =[160,140,120,100,80,60,40,20]\n",
    "\n",
    "\n",
    "sc = plt.scatter(x,y,color='steelblue')\n",
    "\n",
    "# add fiffted plynomial curve to scatterplot\n",
    "plt.ylim(-0.5,17)\n",
    "plt.xlim(0,5.3)\n",
    "#plt.legend(labels=['1','2'])\n",
    "plt.xlabel('ABS',fontsize=12)\n",
    "plt.xticks(fontsize=12)\n",
    "plt.ylabel('Increasing Concentartions',fontsize=12)\n",
    "plt.yticks(fontsize=12)\n",
    "plt.plot(polyline, model5(polyline), '--', color = 'red')\n",
    "# handles = sc.legend_elements(num=[0,1,2,3])[0]\n",
    "# L = plt.legend(*sc.legend_elements(\"sizes\",color='steelblue'),title='Dilution Ratio')\n",
    "# L.get_texts()[0].set_text(\"1:100000000\")\n",
    "# L.get_texts()[1].set_text(\"1:10000000\")\n",
    "# L.get_texts()[2].set_text(\"1:1000000\")\n",
    "# L.get_texts()[3].set_text(\"1:10000\")\n",
    "# L.get_texts()[4].set_text(\"1:1000\")\n",
    "# L.get_texts()[5].set_text(\"1:10\")\n",
    "# L.get_texts()[6].set_text(\"1:10\")\n",
    "# L.get_texts()[7].set_text(\"1:1\")\n",
    "plt.title(\"Serum from Syringe curve\")\n",
    "plt.legend(['Diluted Sample','Fit'])\n",
    "plt.show()"
   ]
  }
 ],
 "metadata": {
  "kernelspec": {
   "display_name": "Python 3.9.5 ('ds')",
   "language": "python",
   "name": "python3"
  },
  "language_info": {
   "codemirror_mode": {
    "name": "ipython",
    "version": 3
   },
   "file_extension": ".py",
   "mimetype": "text/x-python",
   "name": "python",
   "nbconvert_exporter": "python",
   "pygments_lexer": "ipython3",
   "version": "3.9.5"
  },
  "orig_nbformat": 4,
  "vscode": {
   "interpreter": {
    "hash": "37e48532695005f6b8be481dca9311b0406960c07b920c9bcff5b3361c45626c"
   }
  }
 },
 "nbformat": 4,
 "nbformat_minor": 2
}
