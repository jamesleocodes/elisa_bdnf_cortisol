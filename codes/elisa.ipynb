{
 "cells": [
  {
   "cell_type": "code",
   "execution_count": 52,
   "metadata": {},
   "outputs": [],
   "source": [
    "\"\"\"\n",
    "Created on Tuesday 21 Oct 2022\n",
    "Author: ZMW\n",
    "\"\"\"\n",
    "#import libraries\n",
    "import pandas as pd\n",
    "import numpy as np\n",
    "import os\n",
    "import matplotlib.pyplot as plt"
   ]
  },
  {
   "cell_type": "code",
   "execution_count": 53,
   "metadata": {},
   "outputs": [],
   "source": [
    "#data path\n",
    "path = os.getcwd()\n",
    "dirname = os.path.dirname(path)\n",
    "data_file = 'data/201022_BDNF_ELISA.xlsx'\n",
    "data_path = os.path.join(dirname,data_file)"
   ]
  },
  {
   "cell_type": "code",
   "execution_count": 62,
   "metadata": {},
   "outputs": [],
   "source": [
    "#Load the fitted dataset\n",
    "data = pd.read_excel(data_path)\n",
    "data = data.iloc[9:17,1:8]#slice rows and columns where data exist\n",
    "data.columns = ['STD_1','SYN','DUP_SYN','IN','DUP_IN','STD_2','STD_CONC']\n"
   ]
  },
  {
   "cell_type": "markdown",
   "metadata": {},
   "source": [
    "#### columns names\n",
    "STD = standard curve\\\n",
    "SYN = syringe\\\n",
    "DUP_SYN = duplicate syringe\\\n",
    "IN = Infusion kit\\\n",
    "DUP_IN = duplicate infusion kit\\\n",
    "STD = standard curve\\\n",
    "STD_CONC = standard concentration"
   ]
  },
  {
   "cell_type": "code",
   "execution_count": 63,
   "metadata": {},
   "outputs": [
    {
     "data": {
      "text/html": [
       "<div>\n",
       "<style scoped>\n",
       "    .dataframe tbody tr th:only-of-type {\n",
       "        vertical-align: middle;\n",
       "    }\n",
       "\n",
       "    .dataframe tbody tr th {\n",
       "        vertical-align: top;\n",
       "    }\n",
       "\n",
       "    .dataframe thead th {\n",
       "        text-align: right;\n",
       "    }\n",
       "</style>\n",
       "<table border=\"1\" class=\"dataframe\">\n",
       "  <thead>\n",
       "    <tr style=\"text-align: right;\">\n",
       "      <th></th>\n",
       "      <th>STD_1</th>\n",
       "      <th>SYN</th>\n",
       "      <th>DUP_SYN</th>\n",
       "      <th>IN</th>\n",
       "      <th>DUP_IN</th>\n",
       "      <th>STD_2</th>\n",
       "      <th>STD_CONC</th>\n",
       "    </tr>\n",
       "  </thead>\n",
       "  <tbody>\n",
       "    <tr>\n",
       "      <th>9</th>\n",
       "      <td>3.996</td>\n",
       "      <td>4.9404</td>\n",
       "      <td>4.5471</td>\n",
       "      <td>4.5187</td>\n",
       "      <td>3.9315</td>\n",
       "      <td>2.8018</td>\n",
       "      <td>16.000</td>\n",
       "    </tr>\n",
       "    <tr>\n",
       "      <th>10</th>\n",
       "      <td>2.9149</td>\n",
       "      <td>3.6343</td>\n",
       "      <td>4.3342</td>\n",
       "      <td>3.2844</td>\n",
       "      <td>3.5228</td>\n",
       "      <td>1.9956</td>\n",
       "      <td>6.400</td>\n",
       "    </tr>\n",
       "    <tr>\n",
       "      <th>11</th>\n",
       "      <td>1.9001</td>\n",
       "      <td>2.2191</td>\n",
       "      <td>1.8849</td>\n",
       "      <td>2.0781</td>\n",
       "      <td>1.6448</td>\n",
       "      <td>1.2362</td>\n",
       "      <td>2.560</td>\n",
       "    </tr>\n",
       "    <tr>\n",
       "      <th>12</th>\n",
       "      <td>1.0382</td>\n",
       "      <td>0.5515</td>\n",
       "      <td>0.5131</td>\n",
       "      <td>0.4831</td>\n",
       "      <td>0.4924</td>\n",
       "      <td>0.7057</td>\n",
       "      <td>1.024</td>\n",
       "    </tr>\n",
       "    <tr>\n",
       "      <th>13</th>\n",
       "      <td>0.5315</td>\n",
       "      <td>0.2313</td>\n",
       "      <td>0.2121</td>\n",
       "      <td>0.1389</td>\n",
       "      <td>0.1503</td>\n",
       "      <td>0.3465</td>\n",
       "      <td>0.410</td>\n",
       "    </tr>\n",
       "    <tr>\n",
       "      <th>14</th>\n",
       "      <td>0.2877</td>\n",
       "      <td>0.1176</td>\n",
       "      <td>0.1179</td>\n",
       "      <td>0.1092</td>\n",
       "      <td>0.1102</td>\n",
       "      <td>0.2246</td>\n",
       "      <td>0.160</td>\n",
       "    </tr>\n",
       "    <tr>\n",
       "      <th>15</th>\n",
       "      <td>0.1768</td>\n",
       "      <td>0.1035</td>\n",
       "      <td>0.1047</td>\n",
       "      <td>0.1003</td>\n",
       "      <td>0.1118</td>\n",
       "      <td>0.1615</td>\n",
       "      <td>0.066</td>\n",
       "    </tr>\n",
       "    <tr>\n",
       "      <th>16</th>\n",
       "      <td>0.0992</td>\n",
       "      <td>0.0982</td>\n",
       "      <td>0.1039</td>\n",
       "      <td>0.1062</td>\n",
       "      <td>0.1056</td>\n",
       "      <td>0.1039</td>\n",
       "      <td>0.000</td>\n",
       "    </tr>\n",
       "  </tbody>\n",
       "</table>\n",
       "</div>"
      ],
      "text/plain": [
       "     STD_1     SYN DUP_SYN      IN  DUP_IN   STD_2  STD_CONC\n",
       "9    3.996  4.9404  4.5471  4.5187  3.9315  2.8018    16.000\n",
       "10  2.9149  3.6343  4.3342  3.2844  3.5228  1.9956     6.400\n",
       "11  1.9001  2.2191  1.8849  2.0781  1.6448  1.2362     2.560\n",
       "12  1.0382  0.5515  0.5131  0.4831  0.4924  0.7057     1.024\n",
       "13  0.5315  0.2313  0.2121  0.1389  0.1503  0.3465     0.410\n",
       "14  0.2877  0.1176  0.1179  0.1092  0.1102  0.2246     0.160\n",
       "15  0.1768  0.1035  0.1047  0.1003  0.1118  0.1615     0.066\n",
       "16  0.0992  0.0982  0.1039  0.1062  0.1056  0.1039     0.000"
      ]
     },
     "execution_count": 63,
     "metadata": {},
     "output_type": "execute_result"
    }
   ],
   "source": [
    "data"
   ]
  },
  {
   "cell_type": "code",
   "execution_count": 61,
   "metadata": {},
   "outputs": [
    {
     "data": {
      "text/html": [
       "<div>\n",
       "<style scoped>\n",
       "    .dataframe tbody tr th:only-of-type {\n",
       "        vertical-align: middle;\n",
       "    }\n",
       "\n",
       "    .dataframe tbody tr th {\n",
       "        vertical-align: top;\n",
       "    }\n",
       "\n",
       "    .dataframe thead th {\n",
       "        text-align: right;\n",
       "    }\n",
       "</style>\n",
       "<table border=\"1\" class=\"dataframe\">\n",
       "  <thead>\n",
       "    <tr style=\"text-align: right;\">\n",
       "      <th></th>\n",
       "      <th>STD</th>\n",
       "      <th>STD</th>\n",
       "    </tr>\n",
       "  </thead>\n",
       "  <tbody>\n",
       "    <tr>\n",
       "      <th>9</th>\n",
       "      <td>3.996</td>\n",
       "      <td>2.8018</td>\n",
       "    </tr>\n",
       "    <tr>\n",
       "      <th>10</th>\n",
       "      <td>2.9149</td>\n",
       "      <td>1.9956</td>\n",
       "    </tr>\n",
       "    <tr>\n",
       "      <th>11</th>\n",
       "      <td>1.9001</td>\n",
       "      <td>1.2362</td>\n",
       "    </tr>\n",
       "    <tr>\n",
       "      <th>12</th>\n",
       "      <td>1.0382</td>\n",
       "      <td>0.7057</td>\n",
       "    </tr>\n",
       "    <tr>\n",
       "      <th>13</th>\n",
       "      <td>0.5315</td>\n",
       "      <td>0.3465</td>\n",
       "    </tr>\n",
       "    <tr>\n",
       "      <th>14</th>\n",
       "      <td>0.2877</td>\n",
       "      <td>0.2246</td>\n",
       "    </tr>\n",
       "    <tr>\n",
       "      <th>15</th>\n",
       "      <td>0.1768</td>\n",
       "      <td>0.1615</td>\n",
       "    </tr>\n",
       "    <tr>\n",
       "      <th>16</th>\n",
       "      <td>0.0992</td>\n",
       "      <td>0.1039</td>\n",
       "    </tr>\n",
       "  </tbody>\n",
       "</table>\n",
       "</div>"
      ],
      "text/plain": [
       "       STD     STD\n",
       "9    3.996  2.8018\n",
       "10  2.9149  1.9956\n",
       "11  1.9001  1.2362\n",
       "12  1.0382  0.7057\n",
       "13  0.5315  0.3465\n",
       "14  0.2877  0.2246\n",
       "15  0.1768  0.1615\n",
       "16  0.0992  0.1039"
      ]
     },
     "execution_count": 61,
     "metadata": {},
     "output_type": "execute_result"
    }
   ],
   "source": [
    "data['STD']"
   ]
  },
  {
   "cell_type": "code",
   "execution_count": 77,
   "metadata": {},
   "outputs": [
    {
     "data": {
      "text/plain": [
       "<AxesSubplot:xlabel='STD_2', ylabel='STD_CONC'>"
      ]
     },
     "execution_count": 77,
     "metadata": {},
     "output_type": "execute_result"
    },
    {
     "data": {
      "image/png": "[encoded data removed]",
      "text/plain": [
       "<Figure size 432x288 with 1 Axes>"
      ]
     },
     "metadata": {
      "needs_background": "light"
     },
     "output_type": "display_data"
    }
   ],
   "source": [
    "data.plot.scatter(x='STD_2',y='STD_CONC')"
   ]
  },
  {
   "cell_type": "markdown",
   "metadata": {},
   "source": [
    "### Fit Several Curves"
   ]
  },
  {
   "cell_type": "code",
   "execution_count": 82,
   "metadata": {},
   "outputs": [
    {
     "data": {
      "image/png": "[encoded data removed]",
      "text/plain": [
       "<Figure size 432x288 with 1 Axes>"
      ]
     },
     "metadata": {
      "needs_background": "light"
     },
     "output_type": "display_data"
    }
   ],
   "source": [
    "# convert data type to fit with poly1d\n",
    "x = data['STD_2'].astype(str).astype(float)\n",
    "y = data['STD_CONC'].astype(str).astype(float)\n",
    "\n",
    "# fit polynomial models up to degree 5\n",
    "model1 = np.poly1d(np.polyfit(x,y,1))\n",
    "model2 = np.poly1d(np.polyfit(x,y,2))\n",
    "model3 = np.poly1d(np.polyfit(x,y,3))\n",
    "model4 = np.poly1d(np.polyfit(x,y,4))\n",
    "model5 = np.poly1d(np.polyfit(x,y,5))\n",
    "\n",
    "#create scaterplot\n",
    "polyline = np.linspace(0, 4, 50)\n",
    "plt.scatter(x,y)\n",
    "\n",
    "#add fitted polynomial lines to scatterplot\n",
    "plt.plot(polyline,model1(polyline),color='green')\n",
    "plt.plot(polyline, model2(polyline),color='red')\n",
    "plt.plot(polyline, model3(polyline),color='purple')\n",
    "plt.plot(polyline, model4(polyline),color='blue')\n",
    "plt.plot(polyline, model5(polyline),color='orange')\n",
    "plt.show()"
   ]
  },
  {
   "cell_type": "code",
   "execution_count": 83,
   "metadata": {},
   "outputs": [],
   "source": [
    "# define function to calculate adjusted r-squared\n",
    "\n",
    "def adjr(x,y, degree):\n",
    "    results = {}\n",
    "    coef = np.polyfit(x, y, degree)\n",
    "    p = np.poly1d(coef)\n",
    "    yhat = p(x)\n",
    "    ybar = np.sum(y)/len(y)\n",
    "    ssreg = np.sum((yhat-ybar)**2)\n",
    "    sstot = np.sum((y-ybar)**2)\n",
    "    results['r_squared'] = 1 - (((1-(ssreg/sstot))*(len(y)-1))/(len(y)-degree-1))\n",
    "\n",
    "    return results"
   ]
  },
  {
   "cell_type": "code",
   "execution_count": 84,
   "metadata": {},
   "outputs": [
    {
     "name": "stdout",
     "output_type": "stream",
     "text": [
      "{'r_squared': 0.8747125178548856} model 1\n",
      "{'r_squared': 0.9917050001090824} model 2\n",
      "{'r_squared': 0.9996991728734425} model 3\n",
      "{'r_squared': 0.9999429473068482} model 4\n",
      "{'r_squared': 0.9999634645604661} model 5\n"
     ]
    }
   ],
   "source": [
    "# calcuate the r-squared for each model\n",
    "for i in range(1,6):\n",
    "    print(adjr(x,y,i),\"model\",str(i))\n"
   ]
  },
  {
   "cell_type": "markdown",
   "metadata": {},
   "source": [
    "From the output,we can see that model5 achieved the highest adjusted r-squared with 0.9998."
   ]
  },
  {
   "cell_type": "code",
   "execution_count": 189,
   "metadata": {},
   "outputs": [
    {
     "name": "stderr",
     "output_type": "stream",
     "text": [
      "/Users/zaw/miniforge3/envs/ds/lib/python3.9/site-packages/matplotlib/collections.py:1099: UserWarning: Collection without array used. Make sure to specify the values to be colormapped via the `c` argument.\n",
      "  warnings.warn(\"Collection without array used. Make sure to \"\n"
     ]
    },
    {
     "data": {
      "image/png": "[encoded data removed]",
      "text/plain": [
       "<Figure size 432x288 with 1 Axes>"
      ]
     },
     "metadata": {
      "needs_background": "light"
     },
     "output_type": "display_data"
    }
   ],
   "source": [
    "# visualize the final curve\n",
    "model5 = np.poly1d(np.polyfit(x,y,5))\n",
    "\n",
    "#define scatterplot\n",
    "polyline = np.linspace(0.09,2.8,50)\n",
    "points_size =[160,140,120,100,80,60,40,20]\n",
    "\n",
    "sc = plt.scatter(x,y,s=points_size,color='steelblue')\n",
    "\n",
    "# add fiffted plynomial curve to scatterplot\n",
    "plt.ylim(-0.5,17)\n",
    "plt.xlim(0,3)\n",
    "#plt.legend(labels=['1','2'])\n",
    "plt.xlabel('ABS')\n",
    "plt.ylabel('Increasing Concentartions')\n",
    "plt.plot(polyline, model5(polyline), '--', color = 'red')\n",
    "handles = sc.legend_elements(num=[0,1,2,3])[0]\n",
    "L = plt.legend(*sc.legend_elements(\"sizes\",color='steelblue'),title='Dilution Ratio')\n",
    "L.get_texts()[0].set_text(\"1:100000000\")\n",
    "L.get_texts()[1].set_text(\"1:10000000\")\n",
    "L.get_texts()[2].set_text(\"1:1000000\")\n",
    "L.get_texts()[3].set_text(\"1:10000\")\n",
    "L.get_texts()[4].set_text(\"1:1000\")\n",
    "L.get_texts()[5].set_text(\"1:10\")\n",
    "L.get_texts()[6].set_text(\"1:10\")\n",
    "L.get_texts()[7].set_text(\"1:1\")\n",
    "plt.show()"
   ]
  },
  {
   "cell_type": "code",
   "execution_count": null,
   "metadata": {},
   "outputs": [],
   "source": []
  }
 ],
 "metadata": {
  "kernelspec": {
   "display_name": "Python 3.9.5 ('ds')",
   "language": "python",
   "name": "python3"
  },
  "language_info": {
   "codemirror_mode": {
    "name": "ipython",
    "version": 3
   },
   "file_extension": ".py",
   "mimetype": "text/x-python",
   "name": "python",
   "nbconvert_exporter": "python",
   "pygments_lexer": "ipython3",
   "version": "3.9.5"
  },
  "orig_nbformat": 4,
  "vscode": {
   "interpreter": {
    "hash": "37e48532695005f6b8be481dca9311b0406960c07b920c9bcff5b3361c45626c"
   }
  }
 },
 "nbformat": 4,
 "nbformat_minor": 2
}
