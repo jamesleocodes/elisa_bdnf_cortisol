{
 "cells": [
  {
   "cell_type": "markdown",
   "metadata": {},
   "source": [
    "#### Introdcution\n",
    "The BDNF(Brain-Derived Neurotrophic Factor) levels was measureed by using Elisa test kit(LSBio). In this experiment,the whole blood was withdrawn from five healthy controls by using infusion kits and syringe. After collection of the whole blood, we allow the blood to clot by leaving it undisturbed at room temperature around 15-30 minutes. Remove the clot by centrifuging at 1,000-2,000 x g for 10 minutes in a refrigerated centrifuge.\n",
    "\n",
    "The purpose of this analysis to check whether or not the elisa method can acquire the subject's BDNF level."
   ]
  },
  {
   "cell_type": "code",
   "execution_count": 243,
   "metadata": {},
   "outputs": [],
   "source": [
    "\"\"\"\n",
    "Created on Tuesday 8 Nov 2022\n",
    "Author: ZMW\n",
    "\"\"\"\n",
    "#import libraries\n",
    "import pandas as pd\n",
    "import numpy as np\n",
    "import os\n",
    "import matplotlib.pyplot as plt\n",
    "import statistics\n",
    "from scipy.optimize import curve_fit\n",
    "from sklearn.metrics import r2_score\n",
    "import numpy.random as npr\n",
    "from scipy.optimize import leastsq\n",
    "import warnings\n",
    "warnings.filterwarnings('ignore')"
   ]
  },
  {
   "cell_type": "code",
   "execution_count": 244,
   "metadata": {},
   "outputs": [],
   "source": [
    "#data path\n",
    "path = os.getcwd()\n",
    "dirname = os.path.dirname(path)\n",
    "data_file = 'data/bdnf_second_batch.xlsx' # read raw data\n",
    "data_path = os.path.join(dirname,data_file)"
   ]
  },
  {
   "cell_type": "code",
   "execution_count": 245,
   "metadata": {},
   "outputs": [],
   "source": [
    "#Load the fitted dataset\n",
    "data = pd.read_excel(data_path)\n",
    "data = data.iloc[9:17,1:5]#slice rows and columns where data exist\n",
    "#data = data.loc[:,~data.columns.str.contains('Unnamed')]\n",
    "data.columns = ['STD_1','Sample_5_fold','Sample_10_fold','STD_2']\n",
    "data = data.reset_index(drop=True)\n"
   ]
  },
  {
   "cell_type": "markdown",
   "metadata": {},
   "source": [
    "#### Plate layout"
   ]
  },
  {
   "cell_type": "markdown",
   "metadata": {},
   "source": [
    "|  Standard | Sample | Sample | Standard |\n",
    "|---|---|---|---|\n",
    "|  SD1 | S1_5 | S1_10 | SD1  |  \n",
    "|  SD2 |  S1_5 | S1_10 | SD2  | \n",
    "|  SD3 | S2_5 |  S2_10 | SD3  | \n",
    "|  SD4 |  S2_5|  S2_10 |  SD4 | \n",
    "|  SD5 |  S3_5 |   S3_10|   SD5|  \n",
    "|  SD6 |   S3_5|  S3_10 |  SD6 |  \n",
    "|  SD7 |  S4_5|  S4_10 | SD7 | \n",
    "|  blank |  S4_5|   S4_10| blank | "
   ]
  },
  {
   "cell_type": "markdown",
   "metadata": {},
   "source": [
    "### Raw"
   ]
  },
  {
   "cell_type": "code",
   "execution_count": 246,
   "metadata": {},
   "outputs": [
    {
     "data": {
      "text/html": [
       "<div>\n",
       "<style scoped>\n",
       "    .dataframe tbody tr th:only-of-type {\n",
       "        vertical-align: middle;\n",
       "    }\n",
       "\n",
       "    .dataframe tbody tr th {\n",
       "        vertical-align: top;\n",
       "    }\n",
       "\n",
       "    .dataframe thead th {\n",
       "        text-align: right;\n",
       "    }\n",
       "</style>\n",
       "<table border=\"1\" class=\"dataframe\">\n",
       "  <thead>\n",
       "    <tr style=\"text-align: right;\">\n",
       "      <th></th>\n",
       "      <th>STD_1</th>\n",
       "      <th>Sample_5_fold</th>\n",
       "      <th>Sample_10_fold</th>\n",
       "      <th>STD_2</th>\n",
       "    </tr>\n",
       "  </thead>\n",
       "  <tbody>\n",
       "    <tr>\n",
       "      <th>0</th>\n",
       "      <td>3.3274</td>\n",
       "      <td>3.2782</td>\n",
       "      <td>2.6732</td>\n",
       "      <td>3.3108</td>\n",
       "    </tr>\n",
       "    <tr>\n",
       "      <th>1</th>\n",
       "      <td>2.4362</td>\n",
       "      <td>2.9916</td>\n",
       "      <td>2.3199</td>\n",
       "      <td>2.4685</td>\n",
       "    </tr>\n",
       "    <tr>\n",
       "      <th>2</th>\n",
       "      <td>1.4982</td>\n",
       "      <td>3.6362</td>\n",
       "      <td>3.1804</td>\n",
       "      <td>1.5466</td>\n",
       "    </tr>\n",
       "    <tr>\n",
       "      <th>3</th>\n",
       "      <td>0.7041</td>\n",
       "      <td>3.4072</td>\n",
       "      <td>3.2547</td>\n",
       "      <td>0.7138</td>\n",
       "    </tr>\n",
       "    <tr>\n",
       "      <th>4</th>\n",
       "      <td>0.3405</td>\n",
       "      <td>3.7063</td>\n",
       "      <td>3.0675</td>\n",
       "      <td>0.3699</td>\n",
       "    </tr>\n",
       "    <tr>\n",
       "      <th>5</th>\n",
       "      <td>0.1979</td>\n",
       "      <td>3.5763</td>\n",
       "      <td>2.7122</td>\n",
       "      <td>0.2018</td>\n",
       "    </tr>\n",
       "    <tr>\n",
       "      <th>6</th>\n",
       "      <td>0.1186</td>\n",
       "      <td>2.8809</td>\n",
       "      <td>2.731</td>\n",
       "      <td>0.1386</td>\n",
       "    </tr>\n",
       "    <tr>\n",
       "      <th>7</th>\n",
       "      <td>0.0347</td>\n",
       "      <td>2.885</td>\n",
       "      <td>2.88</td>\n",
       "      <td>0.0348</td>\n",
       "    </tr>\n",
       "  </tbody>\n",
       "</table>\n",
       "</div>"
      ],
      "text/plain": [
       "    STD_1 Sample_5_fold Sample_10_fold   STD_2\n",
       "0  3.3274        3.2782         2.6732  3.3108\n",
       "1  2.4362        2.9916         2.3199  2.4685\n",
       "2  1.4982        3.6362         3.1804  1.5466\n",
       "3  0.7041        3.4072         3.2547  0.7138\n",
       "4  0.3405        3.7063         3.0675  0.3699\n",
       "5  0.1979        3.5763         2.7122  0.2018\n",
       "6  0.1186        2.8809          2.731  0.1386\n",
       "7  0.0347         2.885           2.88  0.0348"
      ]
     },
     "execution_count": 246,
     "metadata": {},
     "output_type": "execute_result"
    }
   ],
   "source": [
    "data"
   ]
  },
  {
   "cell_type": "markdown",
   "metadata": {},
   "source": [
    "### Average concentration"
   ]
  },
  {
   "cell_type": "code",
   "execution_count": 247,
   "metadata": {},
   "outputs": [],
   "source": [
    "# Standard\n",
    "STD1 = statistics.mean([data.iloc[0,0],data.iloc[0,3]])\n",
    "STD2 = statistics.mean([data.iloc[1,0],data.iloc[1,3]])\n",
    "STD3 = statistics.mean([data.iloc[2,0],data.iloc[2,3]])\n",
    "STD4 = statistics.mean([data.iloc[3,0],data.iloc[3,3]])\n",
    "STD5 = statistics.mean([data.iloc[4,0],data.iloc[4,3]])\n",
    "STD6= statistics.mean([data.iloc[5,0],data.iloc[5,3]])\n",
    "STD7 = statistics.mean([data.iloc[6,0],data.iloc[6,3]])\n",
    "STD8 = statistics.mean([data.iloc[7,0],data.iloc[7,3]])\n",
    "\n",
    "# Unknown samples\n",
    "S1_5 = statistics.mean([data.iloc[0,1],data.iloc[1,1]])\n",
    "S2_5 = statistics.mean([data.iloc[2,1],data.iloc[3,1]])\n",
    "S3_5 = statistics.mean([data.iloc[4,1],data.iloc[5,1]])\n",
    "S4_5 = statistics.mean([data.iloc[6,1],data.iloc[7,1]])\n",
    "\n",
    "S1_10 = statistics.mean([data.iloc[0,2],data.iloc[1,2]])\n",
    "S2_10 = statistics.mean([data.iloc[2,2],data.iloc[3,2]])\n",
    "S3_10 = statistics.mean([data.iloc[4,2],data.iloc[5,2]])\n",
    "S4_10 = statistics.mean([data.iloc[6,2],data.iloc[7,2]])"
   ]
  },
  {
   "cell_type": "markdown",
   "metadata": {},
   "source": [
    "### Blank correction"
   ]
  },
  {
   "cell_type": "code",
   "execution_count": 248,
   "metadata": {},
   "outputs": [],
   "source": [
    "# Standard\n",
    "STD1 = STD1-STD8\n",
    "STD2 = STD2-STD8\n",
    "STD3 = STD3-STD8\n",
    "STD4 = STD4-STD8\n",
    "STD5 = STD5-STD8\n",
    "STD6 = STD6-STD8\n",
    "STD7 = STD7-STD8\n",
    "\n",
    "# Unknown samples\n",
    "# Unknown samples\n",
    "S1_5 = S1_5 - STD8\n",
    "S2_5 = S2_5 - STD8\n",
    "S3_5 = S3_5 - STD8\n",
    "S4_5 = S4_5 - STD8\n",
    "\n",
    "S1_10 = S1_10 - STD8\n",
    "S2_10 = S2_10 - STD8\n",
    "S3_10 = S3_10 - STD8\n",
    "S4_10 = S4_10 - STD8"
   ]
  },
  {
   "cell_type": "code",
   "execution_count": 249,
   "metadata": {},
   "outputs": [],
   "source": [
    "# Sample dataframe\n",
    "col = {'Subject':['S1_5','S2_5','S3_5','S4_5','S1_10','S2_10','S3_10','S4_10'],'Unknown_Samples':[S1_5,S2_5,S3_5,S4_5,S1_10,S2_10,S3_10,S4_10],'Standard':[STD1,STD2,STD3,STD4,STD5,STD6,STD7,STD8]}\n",
    "data = pd.DataFrame.from_dict(col)"
   ]
  },
  {
   "cell_type": "code",
   "execution_count": 250,
   "metadata": {},
   "outputs": [
    {
     "data": {
      "text/html": [
       "<div>\n",
       "<style scoped>\n",
       "    .dataframe tbody tr th:only-of-type {\n",
       "        vertical-align: middle;\n",
       "    }\n",
       "\n",
       "    .dataframe tbody tr th {\n",
       "        vertical-align: top;\n",
       "    }\n",
       "\n",
       "    .dataframe thead th {\n",
       "        text-align: right;\n",
       "    }\n",
       "</style>\n",
       "<table border=\"1\" class=\"dataframe\">\n",
       "  <thead>\n",
       "    <tr style=\"text-align: right;\">\n",
       "      <th></th>\n",
       "      <th>Subject</th>\n",
       "      <th>Unknown_Samples</th>\n",
       "      <th>Standard</th>\n",
       "    </tr>\n",
       "  </thead>\n",
       "  <tbody>\n",
       "    <tr>\n",
       "      <th>0</th>\n",
       "      <td>S1_5</td>\n",
       "      <td>3.10015</td>\n",
       "      <td>3.28435</td>\n",
       "    </tr>\n",
       "    <tr>\n",
       "      <th>1</th>\n",
       "      <td>S2_5</td>\n",
       "      <td>3.48695</td>\n",
       "      <td>2.41760</td>\n",
       "    </tr>\n",
       "    <tr>\n",
       "      <th>2</th>\n",
       "      <td>S3_5</td>\n",
       "      <td>3.60655</td>\n",
       "      <td>1.48765</td>\n",
       "    </tr>\n",
       "    <tr>\n",
       "      <th>3</th>\n",
       "      <td>S4_5</td>\n",
       "      <td>2.84820</td>\n",
       "      <td>0.67420</td>\n",
       "    </tr>\n",
       "    <tr>\n",
       "      <th>4</th>\n",
       "      <td>S1_10</td>\n",
       "      <td>2.46180</td>\n",
       "      <td>0.32045</td>\n",
       "    </tr>\n",
       "    <tr>\n",
       "      <th>5</th>\n",
       "      <td>S2_10</td>\n",
       "      <td>3.18280</td>\n",
       "      <td>0.16510</td>\n",
       "    </tr>\n",
       "    <tr>\n",
       "      <th>6</th>\n",
       "      <td>S3_10</td>\n",
       "      <td>2.85510</td>\n",
       "      <td>0.09385</td>\n",
       "    </tr>\n",
       "    <tr>\n",
       "      <th>7</th>\n",
       "      <td>S4_10</td>\n",
       "      <td>2.77075</td>\n",
       "      <td>0.03475</td>\n",
       "    </tr>\n",
       "  </tbody>\n",
       "</table>\n",
       "</div>"
      ],
      "text/plain": [
       "  Subject  Unknown_Samples  Standard\n",
       "0    S1_5          3.10015   3.28435\n",
       "1    S2_5          3.48695   2.41760\n",
       "2    S3_5          3.60655   1.48765\n",
       "3    S4_5          2.84820   0.67420\n",
       "4   S1_10          2.46180   0.32045\n",
       "5   S2_10          3.18280   0.16510\n",
       "6   S3_10          2.85510   0.09385\n",
       "7   S4_10          2.77075   0.03475"
      ]
     },
     "execution_count": 250,
     "metadata": {},
     "output_type": "execute_result"
    }
   ],
   "source": [
    "data"
   ]
  },
  {
   "cell_type": "markdown",
   "metadata": {},
   "source": [
    "# 4PL curve fit for standard"
   ]
  },
  {
   "cell_type": "code",
   "execution_count": 253,
   "metadata": {},
   "outputs": [
    {
     "data": {
      "text/html": [
       "<div>\n",
       "<style scoped>\n",
       "    .dataframe tbody tr th:only-of-type {\n",
       "        vertical-align: middle;\n",
       "    }\n",
       "\n",
       "    .dataframe tbody tr th {\n",
       "        vertical-align: top;\n",
       "    }\n",
       "\n",
       "    .dataframe thead th {\n",
       "        text-align: right;\n",
       "    }\n",
       "</style>\n",
       "<table border=\"1\" class=\"dataframe\">\n",
       "  <thead>\n",
       "    <tr style=\"text-align: right;\">\n",
       "      <th></th>\n",
       "      <th>concentrations(ng/ml)</th>\n",
       "      <th>STD_OD</th>\n",
       "    </tr>\n",
       "  </thead>\n",
       "  <tbody>\n",
       "    <tr>\n",
       "      <th>0</th>\n",
       "      <td>16.000</td>\n",
       "      <td>3.28435</td>\n",
       "    </tr>\n",
       "    <tr>\n",
       "      <th>1</th>\n",
       "      <td>6.400</td>\n",
       "      <td>2.41760</td>\n",
       "    </tr>\n",
       "    <tr>\n",
       "      <th>2</th>\n",
       "      <td>2.560</td>\n",
       "      <td>1.48765</td>\n",
       "    </tr>\n",
       "    <tr>\n",
       "      <th>3</th>\n",
       "      <td>1.024</td>\n",
       "      <td>0.67420</td>\n",
       "    </tr>\n",
       "    <tr>\n",
       "      <th>4</th>\n",
       "      <td>0.410</td>\n",
       "      <td>0.32045</td>\n",
       "    </tr>\n",
       "    <tr>\n",
       "      <th>5</th>\n",
       "      <td>0.164</td>\n",
       "      <td>0.16510</td>\n",
       "    </tr>\n",
       "    <tr>\n",
       "      <th>6</th>\n",
       "      <td>0.066</td>\n",
       "      <td>0.09385</td>\n",
       "    </tr>\n",
       "  </tbody>\n",
       "</table>\n",
       "</div>"
      ],
      "text/plain": [
       "   concentrations(ng/ml)   STD_OD\n",
       "0                 16.000  3.28435\n",
       "1                  6.400  2.41760\n",
       "2                  2.560  1.48765\n",
       "3                  1.024  0.67420\n",
       "4                  0.410  0.32045\n",
       "5                  0.164  0.16510\n",
       "6                  0.066  0.09385"
      ]
     },
     "execution_count": 253,
     "metadata": {},
     "output_type": "execute_result"
    }
   ],
   "source": [
    "concen_ng_ml =  [16, 6.4, 2.56, 1.024, 0.41, 0.164,0.066]\n",
    "std = {'concentrations(ng/ml)':concen_ng_ml,'STD_OD':data['Standard'][:-1]}\n",
    "df_std = pd.DataFrame(std)\n",
    "df_std"
   ]
  },
  {
   "cell_type": "markdown",
   "metadata": {},
   "source": [
    "### 4PL curve fitting"
   ]
  },
  {
   "cell_type": "markdown",
   "metadata": {},
   "source": [
    "We want to fit a 4 parameter logistic (4PL) equation to ELISA data. The usual formula for the 4PL model is"
   ]
  },
  {
   "cell_type": "markdown",
   "metadata": {},
   "source": [
    "<img src=\"4pl.png\" alt=\"drawing\" width=\"200\"/>"
   ]
  },
  {
   "cell_type": "markdown",
   "metadata": {},
   "source": [
    "where \\(x\\) is the concentration, \\(A\\) is the minimum asymptote, \\(B\\) is the steepness, \\(C\\) is the inflection point and \\(D\\) is the maximum asymptote."
   ]
  },
  {
   "cell_type": "code",
   "execution_count": 262,
   "metadata": {},
   "outputs": [],
   "source": [
    "# define function for y\n",
    "def logistic_4(x, A, B, C, D):\n",
    "    \"\"\" 4PL logistic equation\"\"\"\n",
    "    return ((A - D) / (1.0 + ((x / C) ** B))) + D"
   ]
  },
  {
   "cell_type": "code",
   "execution_count": 296,
   "metadata": {},
   "outputs": [],
   "source": [
    "# define function for x for unknow concentration\n",
    "def fourpl(y, A, B, C, D):\n",
    "    \"\"\" 4PL logistic equation\"\"\"\n",
    "    return C * ((A-D)/(y-D)-1)**(1/B)"
   ]
  },
  {
   "cell_type": "code",
   "execution_count": 255,
   "metadata": {},
   "outputs": [],
   "source": [
    "# initial guesses\n",
    "InitialGuess = [np.min(df_std['STD_OD']), 1, np.median(concen_ng_ml), np.max(df_std['STD_OD'])]"
   ]
  },
  {
   "cell_type": "code",
   "execution_count": 186,
   "metadata": {},
   "outputs": [],
   "source": [
    "# # initial guesses\n",
    "# InitialGuess = [0, 2, np.mean(concen_ng_ml), 1]"
   ]
  },
  {
   "cell_type": "code",
   "execution_count": 263,
   "metadata": {},
   "outputs": [],
   "source": [
    "# initial guesses\n",
    "InitialGuess = [0.0846, 1.13705, 1.89435, 2.72295]"
   ]
  },
  {
   "cell_type": "code",
   "execution_count": 269,
   "metadata": {},
   "outputs": [],
   "source": [
    "x = df_std['concentrations(ng/ml)'].values.flatten()\n",
    "y = df_std['STD_OD'].values.flatten()"
   ]
  },
  {
   "cell_type": "code",
   "execution_count": 270,
   "metadata": {},
   "outputs": [
    {
     "name": "stdout",
     "output_type": "stream",
     "text": [
      "ET fit R^2:  0.9996527082286881\n"
     ]
    }
   ],
   "source": [
    "#curve fit data into model\n",
    "ET_popt, ET_pcov = curve_fit(logistic_4, x, y, p0=InitialGuess)\n",
    "ET_perr = np.sqrt(np.diag(ET_pcov))\n",
    "\n",
    "y_pred = logistic_4(x, *ET_popt)\n",
    "\n",
    "R_sq_ET = r2_score(y_pred, y)\n",
    "\n",
    "#print(ET_popt) # print fitted parameters\n",
    "print(\"ET fit R^2: \", R_sq_ET)"
   ]
  },
  {
   "cell_type": "code",
   "execution_count": 271,
   "metadata": {},
   "outputs": [
    {
     "data": {
      "image/png": "[encoded data removed]",
      "text/plain": [
       "<Figure size 432x288 with 1 Axes>"
      ]
     },
     "metadata": {
      "needs_background": "light"
     },
     "output_type": "display_data"
    }
   ],
   "source": [
    "fig, ax = plt.subplots()\n",
    "#ax.plot(x,y)\n",
    "\n",
    "# Set the x-axis scale to 0.01, 0.1, 1, 10, and 100\n",
    "ax.set_xscale('log')\n",
    "ax.set_xticks([0.01, 0.1, 1, 10, 100])\n",
    "ax.get_xaxis().set_major_formatter(plt.ScalarFormatter())\n",
    "ax.set_xlim([0.04, 100])\n",
    "\n",
    "\n",
    "# Set the y-axis scale to 0.01, 0.1, 1, and 10\n",
    "ax.set_yscale('log')\n",
    "ax.set_yticks([0.01, 0.1, 1, 10])\n",
    "ax.get_yaxis().set_major_formatter(plt.ScalarFormatter())\n",
    "#ax.set_ylim([0.05, 10])\n",
    "\n",
    "plt.scatter(x,y,label='Data')\n",
    "plt.plot(x, logistic_4(x, *ET_popt), 'r', label=\"4PL Fit\")\n",
    "plt.title('Elisa Kit(BDNF)')\n",
    "plt.xlabel('BDNF Concentration (ng/ml)')\n",
    "plt.ylabel('OD=450(nm)')\n",
    "plt.legend()\n",
    "plt.show()"
   ]
  },
  {
   "cell_type": "code",
   "execution_count": 272,
   "metadata": {},
   "outputs": [
    {
     "name": "stdout",
     "output_type": "stream",
     "text": [
      "A = 0.05632765558388208\n",
      "B = 1.1042733415426311\n",
      "C = 4.555588276280016\n",
      "D = 4.081206200409689\n",
      "R-squared = 0.9996527082286881\n"
     ]
    }
   ],
   "source": [
    "# Print the parameter values and R-squared value\n",
    "A = ET_popt[0]\n",
    "B = ET_popt[1]\n",
    "C = ET_popt[2]\n",
    "D = ET_popt[3]\n",
    "\n",
    "\n",
    "print('A =', ET_popt[0])\n",
    "print('B =', ET_popt[1])\n",
    "print('C =', ET_popt[2])\n",
    "print('D =', ET_popt[3])\n",
    "print('R-squared =', R_sq_ET)"
   ]
  },
  {
   "cell_type": "markdown",
   "metadata": {},
   "source": [
    "### Fit unknown sample OD values to the 4-parameter logistic (4PL) curve"
   ]
  },
  {
   "cell_type": "code",
   "execution_count": 224,
   "metadata": {},
   "outputs": [
    {
     "data": {
      "text/html": [
       "<div>\n",
       "<style scoped>\n",
       "    .dataframe tbody tr th:only-of-type {\n",
       "        vertical-align: middle;\n",
       "    }\n",
       "\n",
       "    .dataframe tbody tr th {\n",
       "        vertical-align: top;\n",
       "    }\n",
       "\n",
       "    .dataframe thead th {\n",
       "        text-align: right;\n",
       "    }\n",
       "</style>\n",
       "<table border=\"1\" class=\"dataframe\">\n",
       "  <thead>\n",
       "    <tr style=\"text-align: right;\">\n",
       "      <th></th>\n",
       "      <th>Subject</th>\n",
       "      <th>Unknown_Samples</th>\n",
       "      <th>Standard</th>\n",
       "    </tr>\n",
       "  </thead>\n",
       "  <tbody>\n",
       "    <tr>\n",
       "      <th>0</th>\n",
       "      <td>S1_5</td>\n",
       "      <td>3.10015</td>\n",
       "      <td>3.28435</td>\n",
       "    </tr>\n",
       "    <tr>\n",
       "      <th>1</th>\n",
       "      <td>S2_5</td>\n",
       "      <td>3.48695</td>\n",
       "      <td>2.41760</td>\n",
       "    </tr>\n",
       "    <tr>\n",
       "      <th>2</th>\n",
       "      <td>S3_5</td>\n",
       "      <td>3.60655</td>\n",
       "      <td>1.48765</td>\n",
       "    </tr>\n",
       "    <tr>\n",
       "      <th>3</th>\n",
       "      <td>S4_5</td>\n",
       "      <td>2.84820</td>\n",
       "      <td>0.67420</td>\n",
       "    </tr>\n",
       "    <tr>\n",
       "      <th>4</th>\n",
       "      <td>S1_10</td>\n",
       "      <td>2.46180</td>\n",
       "      <td>0.32045</td>\n",
       "    </tr>\n",
       "    <tr>\n",
       "      <th>5</th>\n",
       "      <td>S2_10</td>\n",
       "      <td>3.18280</td>\n",
       "      <td>0.16510</td>\n",
       "    </tr>\n",
       "    <tr>\n",
       "      <th>6</th>\n",
       "      <td>S3_10</td>\n",
       "      <td>2.85510</td>\n",
       "      <td>0.09385</td>\n",
       "    </tr>\n",
       "    <tr>\n",
       "      <th>7</th>\n",
       "      <td>S4_10</td>\n",
       "      <td>2.77075</td>\n",
       "      <td>0.03475</td>\n",
       "    </tr>\n",
       "  </tbody>\n",
       "</table>\n",
       "</div>"
      ],
      "text/plain": [
       "  Subject  Unknown_Samples  Standard\n",
       "0    S1_5          3.10015   3.28435\n",
       "1    S2_5          3.48695   2.41760\n",
       "2    S3_5          3.60655   1.48765\n",
       "3    S4_5          2.84820   0.67420\n",
       "4   S1_10          2.46180   0.32045\n",
       "5   S2_10          3.18280   0.16510\n",
       "6   S3_10          2.85510   0.09385\n",
       "7   S4_10          2.77075   0.03475"
      ]
     },
     "execution_count": 224,
     "metadata": {},
     "output_type": "execute_result"
    }
   ],
   "source": [
    "data"
   ]
  },
  {
   "cell_type": "code",
   "execution_count": 277,
   "metadata": {},
   "outputs": [
    {
     "data": {
      "text/plain": [
       "8.237042001814125"
      ]
     },
     "execution_count": 277,
     "metadata": {},
     "output_type": "execute_result"
    }
   ],
   "source": [
    "logistic_4(data.iloc[0,1],A, B, C, D)*5"
   ]
  },
  {
   "cell_type": "code",
   "execution_count": 276,
   "metadata": {},
   "outputs": [
    {
     "data": {
      "text/plain": [
       "1.6754451181002414"
      ]
     },
     "execution_count": 276,
     "metadata": {},
     "output_type": "execute_result"
    }
   ],
   "source": [
    "logistic_4(data.iloc[5,1],A, B, C, D)"
   ]
  },
  {
   "cell_type": "code",
   "execution_count": 295,
   "metadata": {},
   "outputs": [
    {
     "data": {
      "text/html": [
       "<div>\n",
       "<style scoped>\n",
       "    .dataframe tbody tr th:only-of-type {\n",
       "        vertical-align: middle;\n",
       "    }\n",
       "\n",
       "    .dataframe tbody tr th {\n",
       "        vertical-align: top;\n",
       "    }\n",
       "\n",
       "    .dataframe thead th {\n",
       "        text-align: right;\n",
       "    }\n",
       "</style>\n",
       "<table border=\"1\" class=\"dataframe\">\n",
       "  <thead>\n",
       "    <tr style=\"text-align: right;\">\n",
       "      <th></th>\n",
       "      <th>Sample</th>\n",
       "      <th>conc(ng/ml)</th>\n",
       "      <th>Dilutions</th>\n",
       "    </tr>\n",
       "  </thead>\n",
       "  <tbody>\n",
       "    <tr>\n",
       "      <th>0</th>\n",
       "      <td>S1_5</td>\n",
       "      <td>63.504964</td>\n",
       "      <td>5 fold</td>\n",
       "    </tr>\n",
       "    <tr>\n",
       "      <th>1</th>\n",
       "      <td>S2_5</td>\n",
       "      <td>111.433799</td>\n",
       "      <td>5 fold</td>\n",
       "    </tr>\n",
       "    <tr>\n",
       "      <th>2</th>\n",
       "      <td>S3_5</td>\n",
       "      <td>140.887753</td>\n",
       "      <td>5 fold</td>\n",
       "    </tr>\n",
       "    <tr>\n",
       "      <th>3</th>\n",
       "      <td>S4_5</td>\n",
       "      <td>47.745201</td>\n",
       "      <td>5 fold</td>\n",
       "    </tr>\n",
       "    <tr>\n",
       "      <th>4</th>\n",
       "      <td>S1_10</td>\n",
       "      <td>65.187189</td>\n",
       "      <td>10 fold</td>\n",
       "    </tr>\n",
       "    <tr>\n",
       "      <th>5</th>\n",
       "      <td>S2_10</td>\n",
       "      <td>140.924437</td>\n",
       "      <td>10 fold</td>\n",
       "    </tr>\n",
       "    <tr>\n",
       "      <th>6</th>\n",
       "      <td>S3_10</td>\n",
       "      <td>96.191688</td>\n",
       "      <td>10 fold</td>\n",
       "    </tr>\n",
       "    <tr>\n",
       "      <th>7</th>\n",
       "      <td>S4_10</td>\n",
       "      <td>88.091974</td>\n",
       "      <td>10 fold</td>\n",
       "    </tr>\n",
       "  </tbody>\n",
       "</table>\n",
       "</div>"
      ],
      "text/plain": [
       "  Sample  conc(ng/ml) Dilutions\n",
       "0   S1_5    63.504964    5 fold\n",
       "1   S2_5   111.433799    5 fold\n",
       "2   S3_5   140.887753    5 fold\n",
       "3   S4_5    47.745201    5 fold\n",
       "4  S1_10    65.187189   10 fold\n",
       "5  S2_10   140.924437   10 fold\n",
       "6  S3_10    96.191688   10 fold\n",
       "7  S4_10    88.091974   10 fold"
      ]
     },
     "execution_count": 295,
     "metadata": {},
     "output_type": "execute_result"
    }
   ],
   "source": [
    "comp_values= {'Sample':data['Subject'],\n",
    "    'conc(ng/ml)':[fourpl(data.iloc[0,1],A, B, C, D)*5,fourpl(data.iloc[1,1],A, B, C, D)*5,\n",
    "                   fourpl(data.iloc[2,1],A, B, C, D)*5,fourpl(data.iloc[3,1],A, B, C, D)*5,\n",
    "                   fourpl(data.iloc[4,1],A, B, C, D)*10,fourpl(data.iloc[5,1],A, B, C, D)*10,\n",
    "                   fourpl(data.iloc[6,1],A, B, C, D)*10,fourpl(data.iloc[7,1],A, B, C, D)*10],\n",
    "                   'Dilutions':['5 fold','5 fold','5 fold','5 fold','10 fold','10 fold','10 fold','10 fold']}\n",
    "df_unsamp = pd.DataFrame(comp_values)\n",
    "df_unsamp\n"
   ]
  },
  {
   "cell_type": "markdown",
   "metadata": {},
   "source": [
    "### Conclusion\n",
    "In healthy subjects, BDNF levels range from 15.83 to 79.77 ng/mL. Our analysis revealed that the BDNF level from subjects are within the range according to the published paper. "
   ]
  }
 ],
 "metadata": {
  "kernelspec": {
   "display_name": "Python 3.9.5 ('ds')",
   "language": "python",
   "name": "python3"
  },
  "language_info": {
   "codemirror_mode": {
    "name": "ipython",
    "version": 3
   },
   "file_extension": ".py",
   "mimetype": "text/x-python",
   "name": "python",
   "nbconvert_exporter": "python",
   "pygments_lexer": "ipython3",
   "version": "3.9.5"
  },
  "orig_nbformat": 4,
  "vscode": {
   "interpreter": {
    "hash": "37e48532695005f6b8be481dca9311b0406960c07b920c9bcff5b3361c45626c"
   }
  }
 },
 "nbformat": 4,
 "nbformat_minor": 2
}
