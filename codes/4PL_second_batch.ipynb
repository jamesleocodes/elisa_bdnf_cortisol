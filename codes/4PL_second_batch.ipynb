{
 "cells": [
  {
   "cell_type": "markdown",
   "metadata": {},
   "source": [
    "#### Introdcution\n",
    "The BDNF(Brain-Derived Neurotrophic Factor) levels was measureed by using Elisa test kit(LSBio). In this experiment,the whole blood was withdrawn from five healthy controls by using infusion kits and syringe. After collection of the whole blood, we allow the blood to clot by leaving it undisturbed at room temperature around 15-30 minutes. Remove the clot by centrifuging at 1,000-2,000 x g for 10 minutes in a refrigerated centrifuge.\n",
    "\n",
    "The purpose of this analysis to check whether or not the elisa method can acquire the subject's BDNF level."
   ]
  },
  {
   "cell_type": "code",
   "execution_count": 91,
   "metadata": {},
   "outputs": [],
   "source": [
    "\"\"\"\n",
    "Created on Tuesday 8 Nov 2022\n",
    "Author: ZMW\n",
    "\"\"\"\n",
    "#import libraries\n",
    "import pandas as pd\n",
    "import numpy as np\n",
    "import os\n",
    "import matplotlib.pyplot as plt\n",
    "import statistics\n",
    "from scipy.optimize import curve_fit\n",
    "from sklearn.metrics import r2_score\n",
    "import numpy.random as npr\n",
    "from scipy.optimize import leastsq\n",
    "import warnings\n",
    "warnings.filterwarnings('ignore')"
   ]
  },
  {
   "cell_type": "code",
   "execution_count": 92,
   "metadata": {},
   "outputs": [],
   "source": [
    "#data path\n",
    "path = os.getcwd()\n",
    "dirname = os.path.dirname(path)\n",
    "data_file = 'data/bdnf_second_batch.xlsx' # read raw data\n",
    "data_path = os.path.join(dirname,data_file)"
   ]
  },
  {
   "cell_type": "code",
   "execution_count": 93,
   "metadata": {},
   "outputs": [],
   "source": [
    "#Load the fitted dataset\n",
    "data = pd.read_excel(data_path)\n",
    "data = data.iloc[9:17,1:5]#slice rows and columns where data exist\n",
    "#data = data.loc[:,~data.columns.str.contains('Unnamed')]\n",
    "data.columns = ['STD_1','Sample_5_fold','Sample_10_fold','STD_2']\n",
    "data = data.reset_index(drop=True)\n"
   ]
  },
  {
   "cell_type": "markdown",
   "metadata": {},
   "source": [
    "#### Plate layout"
   ]
  },
  {
   "cell_type": "markdown",
   "metadata": {},
   "source": [
    "|  Standard | Sample | Sample | Standard |\n",
    "|---|---|---|---|\n",
    "|  SD1 | S1_5 | S1_10 | SD1  |  \n",
    "|  SD2 |  S1_5 | S1_10 | SD2  | \n",
    "|  SD3 | S2_5 |  S2_10 | SD3  | \n",
    "|  SD4 |  S2_5|  S2_10 |  SD4 | \n",
    "|  SD5 |  S3_5 |   S3_10|   SD5|  \n",
    "|  SD6 |   S3_5|  S3_10 |  SD6 |  \n",
    "|  SD7 |  S4_5|  S4_10 | SD7 | \n",
    "|  blank |  S4_5|   S4_10| blank | "
   ]
  },
  {
   "cell_type": "markdown",
   "metadata": {},
   "source": [
    "### Raw"
   ]
  },
  {
   "cell_type": "code",
   "execution_count": 94,
   "metadata": {},
   "outputs": [
    {
     "data": {
      "text/html": [
       "<div>\n",
       "<style scoped>\n",
       "    .dataframe tbody tr th:only-of-type {\n",
       "        vertical-align: middle;\n",
       "    }\n",
       "\n",
       "    .dataframe tbody tr th {\n",
       "        vertical-align: top;\n",
       "    }\n",
       "\n",
       "    .dataframe thead th {\n",
       "        text-align: right;\n",
       "    }\n",
       "</style>\n",
       "<table border=\"1\" class=\"dataframe\">\n",
       "  <thead>\n",
       "    <tr style=\"text-align: right;\">\n",
       "      <th></th>\n",
       "      <th>STD_1</th>\n",
       "      <th>Sample_5_fold</th>\n",
       "      <th>Sample_10_fold</th>\n",
       "      <th>STD_2</th>\n",
       "    </tr>\n",
       "  </thead>\n",
       "  <tbody>\n",
       "    <tr>\n",
       "      <th>0</th>\n",
       "      <td>3.3274</td>\n",
       "      <td>3.2782</td>\n",
       "      <td>2.6732</td>\n",
       "      <td>3.3108</td>\n",
       "    </tr>\n",
       "    <tr>\n",
       "      <th>1</th>\n",
       "      <td>2.4362</td>\n",
       "      <td>2.9916</td>\n",
       "      <td>2.3199</td>\n",
       "      <td>2.4685</td>\n",
       "    </tr>\n",
       "    <tr>\n",
       "      <th>2</th>\n",
       "      <td>1.4982</td>\n",
       "      <td>3.6362</td>\n",
       "      <td>3.1804</td>\n",
       "      <td>1.5466</td>\n",
       "    </tr>\n",
       "    <tr>\n",
       "      <th>3</th>\n",
       "      <td>0.7041</td>\n",
       "      <td>3.4072</td>\n",
       "      <td>3.2547</td>\n",
       "      <td>0.7138</td>\n",
       "    </tr>\n",
       "    <tr>\n",
       "      <th>4</th>\n",
       "      <td>0.3405</td>\n",
       "      <td>3.7063</td>\n",
       "      <td>3.0675</td>\n",
       "      <td>0.3699</td>\n",
       "    </tr>\n",
       "    <tr>\n",
       "      <th>5</th>\n",
       "      <td>0.1979</td>\n",
       "      <td>3.5763</td>\n",
       "      <td>2.7122</td>\n",
       "      <td>0.2018</td>\n",
       "    </tr>\n",
       "    <tr>\n",
       "      <th>6</th>\n",
       "      <td>0.1186</td>\n",
       "      <td>2.8809</td>\n",
       "      <td>2.731</td>\n",
       "      <td>0.1386</td>\n",
       "    </tr>\n",
       "    <tr>\n",
       "      <th>7</th>\n",
       "      <td>0.0347</td>\n",
       "      <td>2.885</td>\n",
       "      <td>2.88</td>\n",
       "      <td>0.0348</td>\n",
       "    </tr>\n",
       "  </tbody>\n",
       "</table>\n",
       "</div>"
      ],
      "text/plain": [
       "    STD_1 Sample_5_fold Sample_10_fold   STD_2\n",
       "0  3.3274        3.2782         2.6732  3.3108\n",
       "1  2.4362        2.9916         2.3199  2.4685\n",
       "2  1.4982        3.6362         3.1804  1.5466\n",
       "3  0.7041        3.4072         3.2547  0.7138\n",
       "4  0.3405        3.7063         3.0675  0.3699\n",
       "5  0.1979        3.5763         2.7122  0.2018\n",
       "6  0.1186        2.8809          2.731  0.1386\n",
       "7  0.0347         2.885           2.88  0.0348"
      ]
     },
     "execution_count": 94,
     "metadata": {},
     "output_type": "execute_result"
    }
   ],
   "source": [
    "data"
   ]
  },
  {
   "cell_type": "markdown",
   "metadata": {},
   "source": [
    "### Average concentration"
   ]
  },
  {
   "cell_type": "code",
   "execution_count": 95,
   "metadata": {},
   "outputs": [],
   "source": [
    "# Standard\n",
    "STD1 = statistics.mean([data.iloc[0,0],data.iloc[0,3]])\n",
    "STD2 = statistics.mean([data.iloc[1,0],data.iloc[1,3]])\n",
    "STD3 = statistics.mean([data.iloc[2,0],data.iloc[2,3]])\n",
    "STD4 = statistics.mean([data.iloc[3,0],data.iloc[3,3]])\n",
    "STD5 = statistics.mean([data.iloc[4,0],data.iloc[4,3]])\n",
    "STD6= statistics.mean([data.iloc[5,0],data.iloc[5,3]])\n",
    "STD7 = statistics.mean([data.iloc[6,0],data.iloc[6,3]])\n",
    "STD8 = statistics.mean([data.iloc[7,0],data.iloc[7,3]])\n",
    "\n",
    "# Unknown samples\n",
    "S1_5 = statistics.mean([data.iloc[0,1],data.iloc[1,1]])\n",
    "S2_5 = statistics.mean([data.iloc[2,1],data.iloc[3,1]])\n",
    "S3_5 = statistics.mean([data.iloc[4,1],data.iloc[5,1]])\n",
    "S4_5 = statistics.mean([data.iloc[6,1],data.iloc[7,1]])\n",
    "\n",
    "S1_10 = statistics.mean([data.iloc[0,2],data.iloc[1,2]])\n",
    "S2_10 = statistics.mean([data.iloc[2,2],data.iloc[3,2]])\n",
    "S3_10 = statistics.mean([data.iloc[4,2],data.iloc[5,2]])\n",
    "S4_10 = statistics.mean([data.iloc[6,2],data.iloc[7,2]])"
   ]
  },
  {
   "cell_type": "markdown",
   "metadata": {},
   "source": [
    "### Blank correction"
   ]
  },
  {
   "cell_type": "code",
   "execution_count": 96,
   "metadata": {},
   "outputs": [],
   "source": [
    "# Standard\n",
    "STD1 = STD1-STD8\n",
    "STD2 = STD2-STD8\n",
    "STD3 = STD3-STD8\n",
    "STD4 = STD4-STD8\n",
    "STD5 = STD5-STD8\n",
    "STD6 = STD6-STD8\n",
    "STD7 = STD7-STD8\n",
    "\n",
    "# Unknown samples\n",
    "# Unknown samples\n",
    "S1_5 = S1_5 - STD8\n",
    "S2_5 = S2_5 - STD8\n",
    "S3_5 = S3_5 - STD8\n",
    "S4_5 = S4_5 - STD8\n",
    "\n",
    "S1_10 = S1_10 - STD8\n",
    "S2_10 = S2_10 - STD8\n",
    "S3_10 = S3_10 - STD8\n",
    "S4_10 = S4_10 - STD8"
   ]
  },
  {
   "cell_type": "code",
   "execution_count": 97,
   "metadata": {},
   "outputs": [],
   "source": [
    "# Sample dataframe\n",
    "col = {'Subject':['S1_5','S2_5','S3_5','S4_5','S1_10','S2_10','S3_10','S4_10'],'Unknown_Samples':[S1_5,S2_5,S3_5,S4_5,S1_10,S2_10,S3_10,S4_10],'Standard':[STD1,STD2,STD3,STD4,STD5,STD6,STD7,STD8]}\n",
    "data = pd.DataFrame.from_dict(col)"
   ]
  },
  {
   "cell_type": "code",
   "execution_count": 98,
   "metadata": {},
   "outputs": [
    {
     "data": {
      "text/html": [
       "<div>\n",
       "<style scoped>\n",
       "    .dataframe tbody tr th:only-of-type {\n",
       "        vertical-align: middle;\n",
       "    }\n",
       "\n",
       "    .dataframe tbody tr th {\n",
       "        vertical-align: top;\n",
       "    }\n",
       "\n",
       "    .dataframe thead th {\n",
       "        text-align: right;\n",
       "    }\n",
       "</style>\n",
       "<table border=\"1\" class=\"dataframe\">\n",
       "  <thead>\n",
       "    <tr style=\"text-align: right;\">\n",
       "      <th></th>\n",
       "      <th>Subject</th>\n",
       "      <th>Unknown_Samples</th>\n",
       "      <th>Standard</th>\n",
       "    </tr>\n",
       "  </thead>\n",
       "  <tbody>\n",
       "    <tr>\n",
       "      <th>0</th>\n",
       "      <td>S1_5</td>\n",
       "      <td>3.10015</td>\n",
       "      <td>3.28435</td>\n",
       "    </tr>\n",
       "    <tr>\n",
       "      <th>1</th>\n",
       "      <td>S2_5</td>\n",
       "      <td>3.48695</td>\n",
       "      <td>2.41760</td>\n",
       "    </tr>\n",
       "    <tr>\n",
       "      <th>2</th>\n",
       "      <td>S3_5</td>\n",
       "      <td>3.60655</td>\n",
       "      <td>1.48765</td>\n",
       "    </tr>\n",
       "    <tr>\n",
       "      <th>3</th>\n",
       "      <td>S4_5</td>\n",
       "      <td>2.84820</td>\n",
       "      <td>0.67420</td>\n",
       "    </tr>\n",
       "    <tr>\n",
       "      <th>4</th>\n",
       "      <td>S1_10</td>\n",
       "      <td>2.46180</td>\n",
       "      <td>0.32045</td>\n",
       "    </tr>\n",
       "    <tr>\n",
       "      <th>5</th>\n",
       "      <td>S2_10</td>\n",
       "      <td>3.18280</td>\n",
       "      <td>0.16510</td>\n",
       "    </tr>\n",
       "    <tr>\n",
       "      <th>6</th>\n",
       "      <td>S3_10</td>\n",
       "      <td>2.85510</td>\n",
       "      <td>0.09385</td>\n",
       "    </tr>\n",
       "    <tr>\n",
       "      <th>7</th>\n",
       "      <td>S4_10</td>\n",
       "      <td>2.77075</td>\n",
       "      <td>0.03475</td>\n",
       "    </tr>\n",
       "  </tbody>\n",
       "</table>\n",
       "</div>"
      ],
      "text/plain": [
       "  Subject  Unknown_Samples  Standard\n",
       "0    S1_5          3.10015   3.28435\n",
       "1    S2_5          3.48695   2.41760\n",
       "2    S3_5          3.60655   1.48765\n",
       "3    S4_5          2.84820   0.67420\n",
       "4   S1_10          2.46180   0.32045\n",
       "5   S2_10          3.18280   0.16510\n",
       "6   S3_10          2.85510   0.09385\n",
       "7   S4_10          2.77075   0.03475"
      ]
     },
     "execution_count": 98,
     "metadata": {},
     "output_type": "execute_result"
    }
   ],
   "source": [
    "data"
   ]
  },
  {
   "cell_type": "code",
   "execution_count": 179,
   "metadata": {},
   "outputs": [
    {
     "data": {
      "text/plain": [
       "0    3.28435\n",
       "1    2.41760\n",
       "2    1.48765\n",
       "3    0.67420\n",
       "4    0.32045\n",
       "5    0.16510\n",
       "6    0.09385\n",
       "Name: Standard, dtype: float64"
      ]
     },
     "execution_count": 179,
     "metadata": {},
     "output_type": "execute_result"
    }
   ],
   "source": [
    "data['Standard'][:-1]"
   ]
  },
  {
   "cell_type": "markdown",
   "metadata": {},
   "source": [
    "# 4PL curve fit for standard"
   ]
  },
  {
   "cell_type": "code",
   "execution_count": 236,
   "metadata": {},
   "outputs": [
    {
     "data": {
      "text/html": [
       "<div>\n",
       "<style scoped>\n",
       "    .dataframe tbody tr th:only-of-type {\n",
       "        vertical-align: middle;\n",
       "    }\n",
       "\n",
       "    .dataframe tbody tr th {\n",
       "        vertical-align: top;\n",
       "    }\n",
       "\n",
       "    .dataframe thead th {\n",
       "        text-align: right;\n",
       "    }\n",
       "</style>\n",
       "<table border=\"1\" class=\"dataframe\">\n",
       "  <thead>\n",
       "    <tr style=\"text-align: right;\">\n",
       "      <th></th>\n",
       "      <th>concentrations(ng/ml)</th>\n",
       "      <th>STD_OD</th>\n",
       "    </tr>\n",
       "  </thead>\n",
       "  <tbody>\n",
       "    <tr>\n",
       "      <th>0</th>\n",
       "      <td>16.000</td>\n",
       "      <td>3.28435</td>\n",
       "    </tr>\n",
       "    <tr>\n",
       "      <th>1</th>\n",
       "      <td>6.400</td>\n",
       "      <td>2.41760</td>\n",
       "    </tr>\n",
       "    <tr>\n",
       "      <th>2</th>\n",
       "      <td>2.560</td>\n",
       "      <td>1.48765</td>\n",
       "    </tr>\n",
       "    <tr>\n",
       "      <th>3</th>\n",
       "      <td>1.024</td>\n",
       "      <td>0.67420</td>\n",
       "    </tr>\n",
       "    <tr>\n",
       "      <th>4</th>\n",
       "      <td>0.410</td>\n",
       "      <td>0.32045</td>\n",
       "    </tr>\n",
       "    <tr>\n",
       "      <th>5</th>\n",
       "      <td>0.164</td>\n",
       "      <td>0.16510</td>\n",
       "    </tr>\n",
       "    <tr>\n",
       "      <th>6</th>\n",
       "      <td>0.066</td>\n",
       "      <td>0.09385</td>\n",
       "    </tr>\n",
       "  </tbody>\n",
       "</table>\n",
       "</div>"
      ],
      "text/plain": [
       "   concentrations(ng/ml)   STD_OD\n",
       "0                 16.000  3.28435\n",
       "1                  6.400  2.41760\n",
       "2                  2.560  1.48765\n",
       "3                  1.024  0.67420\n",
       "4                  0.410  0.32045\n",
       "5                  0.164  0.16510\n",
       "6                  0.066  0.09385"
      ]
     },
     "execution_count": 236,
     "metadata": {},
     "output_type": "execute_result"
    }
   ],
   "source": [
    "concen_ng_ml =  [16, 6.4, 2.56, 1.024, 0.41, 0.164,0.066]\n",
    "std = {'concentrations(ng/ml)':concen_ng_ml,'STD_OD':data['Standard'][:-1]}\n",
    "df_std = pd.DataFrame(std)\n",
    "df_std"
   ]
  },
  {
   "cell_type": "markdown",
   "metadata": {},
   "source": [
    "### 4PL curve fitting"
   ]
  },
  {
   "cell_type": "markdown",
   "metadata": {},
   "source": [
    "We want to fit a 4 parameter logistic (4PL) equation to ELISA data. The usual formula for the 4PL model is"
   ]
  },
  {
   "cell_type": "markdown",
   "metadata": {},
   "source": [
    "<img src=\"4pl.png\" alt=\"drawing\" width=\"200\"/>"
   ]
  },
  {
   "cell_type": "markdown",
   "metadata": {},
   "source": [
    "where \\(x\\) is the concentration, \\(A\\) is the minimum asymptote, \\(B\\) is the steepness, \\(C\\) is the inflection point and \\(D\\) is the maximum asymptote."
   ]
  },
  {
   "cell_type": "code",
   "execution_count": 184,
   "metadata": {},
   "outputs": [],
   "source": [
    "# define function\n",
    "def logistic_4(x, A, B, C, D):\n",
    "    \"\"\" 4PL logistic equation\"\"\"\n",
    "    return ((A - D) / (1.0 + ((x / C) ** B))) + D"
   ]
  },
  {
   "cell_type": "code",
   "execution_count": 185,
   "metadata": {},
   "outputs": [],
   "source": [
    "# initial guesses\n",
    "InitialGuess = [np.min(df_std['STD_OD']), 1, np.median(concen_ng_ml), np.max(df_std['STD_OD'])]"
   ]
  },
  {
   "cell_type": "code",
   "execution_count": 186,
   "metadata": {},
   "outputs": [],
   "source": [
    "# # initial guesses\n",
    "# InitialGuess = [0, 2, np.mean(concen_ng_ml), 1]"
   ]
  },
  {
   "cell_type": "code",
   "execution_count": 187,
   "metadata": {},
   "outputs": [],
   "source": [
    "x = df_std['concentrations(ng/ml)'].values.flatten()\n",
    "y = df_std['STD_OD'].values.flatten()"
   ]
  },
  {
   "cell_type": "code",
   "execution_count": 188,
   "metadata": {},
   "outputs": [
    {
     "name": "stdout",
     "output_type": "stream",
     "text": [
      "ET fit R^2:  0.9996527082264522\n"
     ]
    }
   ],
   "source": [
    "#curve fit data into model\n",
    "ET_popt, ET_pcov = curve_fit(logistic_4, x, y, p0=InitialGuess)\n",
    "ET_perr = np.sqrt(np.diag(ET_pcov))\n",
    "\n",
    "y_pred = logistic_4(x, *ET_popt)\n",
    "\n",
    "R_sq_ET = r2_score(y_pred, y)\n",
    "\n",
    "#print(ET_popt) # print fitted parameters\n",
    "print(\"ET fit R^2: \", R_sq_ET)"
   ]
  },
  {
   "cell_type": "code",
   "execution_count": 241,
   "metadata": {},
   "outputs": [
    {
     "data": {
      "image/png": "[encoded data removed]",
      "text/plain": [
       "<Figure size 432x288 with 1 Axes>"
      ]
     },
     "metadata": {
      "needs_background": "light"
     },
     "output_type": "display_data"
    }
   ],
   "source": [
    "fig, ax = plt.subplots()\n",
    "#ax.plot(x,y)\n",
    "\n",
    "# Set the x-axis scale to 0.01, 0.1, 1, 10, and 100\n",
    "ax.set_xscale('log')\n",
    "ax.set_xticks([0.01, 0.1, 1, 10, 100])\n",
    "ax.get_xaxis().set_major_formatter(plt.ScalarFormatter())\n",
    "ax.set_xlim([0.04, 100])\n",
    "\n",
    "\n",
    "# Set the y-axis scale to 0.01, 0.1, 1, and 10\n",
    "ax.set_yscale('log')\n",
    "ax.set_yticks([0.01, 0.1, 1, 10])\n",
    "ax.get_yaxis().set_major_formatter(plt.ScalarFormatter())\n",
    "#ax.set_ylim([0.05, 10])\n",
    "\n",
    "plt.scatter(x,y,label='Data')\n",
    "plt.plot(x, logistic_4(x, *ET_popt), 'r', label=\"4PL Fit\")\n",
    "plt.title('Elisa Kit(BDNF)')\n",
    "plt.xlabel('BDNF Concentration (ng/ml)')\n",
    "plt.ylabel('OD=450(nm)')\n",
    "plt.legend()\n",
    "plt.show()"
   ]
  },
  {
   "cell_type": "code",
   "execution_count": 234,
   "metadata": {},
   "outputs": [
    {
     "name": "stdout",
     "output_type": "stream",
     "text": [
      "A = 0.05632774728943218\n",
      "B = 1.1042737004785685\n",
      "C = 4.5555858909596285\n",
      "D = 4.081205214611354\n",
      "R-squared = 0.9996527082264522\n"
     ]
    }
   ],
   "source": [
    "# Print the parameter values and R-squared value\n",
    "A = ET_popt[0]\n",
    "B = ET_popt[1]\n",
    "C = ET_popt[2]\n",
    "D = ET_popt[3]\n",
    "\n",
    "\n",
    "print('A =', ET_popt[0])\n",
    "print('B =', ET_popt[1])\n",
    "print('C =', ET_popt[2])\n",
    "print('D =', ET_popt[3])\n",
    "print('R-squared =', R_sq_ET)"
   ]
  },
  {
   "cell_type": "markdown",
   "metadata": {},
   "source": [
    "### Fit unknown sample OD values to the 4-parameter logistic (4PL) curve"
   ]
  },
  {
   "cell_type": "code",
   "execution_count": 224,
   "metadata": {},
   "outputs": [
    {
     "data": {
      "text/html": [
       "<div>\n",
       "<style scoped>\n",
       "    .dataframe tbody tr th:only-of-type {\n",
       "        vertical-align: middle;\n",
       "    }\n",
       "\n",
       "    .dataframe tbody tr th {\n",
       "        vertical-align: top;\n",
       "    }\n",
       "\n",
       "    .dataframe thead th {\n",
       "        text-align: right;\n",
       "    }\n",
       "</style>\n",
       "<table border=\"1\" class=\"dataframe\">\n",
       "  <thead>\n",
       "    <tr style=\"text-align: right;\">\n",
       "      <th></th>\n",
       "      <th>Subject</th>\n",
       "      <th>Unknown_Samples</th>\n",
       "      <th>Standard</th>\n",
       "    </tr>\n",
       "  </thead>\n",
       "  <tbody>\n",
       "    <tr>\n",
       "      <th>0</th>\n",
       "      <td>S1_5</td>\n",
       "      <td>3.10015</td>\n",
       "      <td>3.28435</td>\n",
       "    </tr>\n",
       "    <tr>\n",
       "      <th>1</th>\n",
       "      <td>S2_5</td>\n",
       "      <td>3.48695</td>\n",
       "      <td>2.41760</td>\n",
       "    </tr>\n",
       "    <tr>\n",
       "      <th>2</th>\n",
       "      <td>S3_5</td>\n",
       "      <td>3.60655</td>\n",
       "      <td>1.48765</td>\n",
       "    </tr>\n",
       "    <tr>\n",
       "      <th>3</th>\n",
       "      <td>S4_5</td>\n",
       "      <td>2.84820</td>\n",
       "      <td>0.67420</td>\n",
       "    </tr>\n",
       "    <tr>\n",
       "      <th>4</th>\n",
       "      <td>S1_10</td>\n",
       "      <td>2.46180</td>\n",
       "      <td>0.32045</td>\n",
       "    </tr>\n",
       "    <tr>\n",
       "      <th>5</th>\n",
       "      <td>S2_10</td>\n",
       "      <td>3.18280</td>\n",
       "      <td>0.16510</td>\n",
       "    </tr>\n",
       "    <tr>\n",
       "      <th>6</th>\n",
       "      <td>S3_10</td>\n",
       "      <td>2.85510</td>\n",
       "      <td>0.09385</td>\n",
       "    </tr>\n",
       "    <tr>\n",
       "      <th>7</th>\n",
       "      <td>S4_10</td>\n",
       "      <td>2.77075</td>\n",
       "      <td>0.03475</td>\n",
       "    </tr>\n",
       "  </tbody>\n",
       "</table>\n",
       "</div>"
      ],
      "text/plain": [
       "  Subject  Unknown_Samples  Standard\n",
       "0    S1_5          3.10015   3.28435\n",
       "1    S2_5          3.48695   2.41760\n",
       "2    S3_5          3.60655   1.48765\n",
       "3    S4_5          2.84820   0.67420\n",
       "4   S1_10          2.46180   0.32045\n",
       "5   S2_10          3.18280   0.16510\n",
       "6   S3_10          2.85510   0.09385\n",
       "7   S4_10          2.77075   0.03475"
      ]
     },
     "execution_count": 224,
     "metadata": {},
     "output_type": "execute_result"
    }
   ],
   "source": [
    "data"
   ]
  },
  {
   "cell_type": "code",
   "execution_count": 225,
   "metadata": {},
   "outputs": [
    {
     "data": {
      "text/plain": [
       "1.647408489489921"
      ]
     },
     "execution_count": 225,
     "metadata": {},
     "output_type": "execute_result"
    }
   ],
   "source": [
    "logistic_4(data.iloc[0,1],A, B, C, D)"
   ]
  },
  {
   "cell_type": "code",
   "execution_count": 226,
   "metadata": {},
   "outputs": [
    {
     "data": {
      "text/html": [
       "<div>\n",
       "<style scoped>\n",
       "    .dataframe tbody tr th:only-of-type {\n",
       "        vertical-align: middle;\n",
       "    }\n",
       "\n",
       "    .dataframe tbody tr th {\n",
       "        vertical-align: top;\n",
       "    }\n",
       "\n",
       "    .dataframe thead th {\n",
       "        text-align: right;\n",
       "    }\n",
       "</style>\n",
       "<table border=\"1\" class=\"dataframe\">\n",
       "  <thead>\n",
       "    <tr style=\"text-align: right;\">\n",
       "      <th></th>\n",
       "      <th>Subj</th>\n",
       "      <th>concentrations(ng/ml)</th>\n",
       "    </tr>\n",
       "  </thead>\n",
       "  <tbody>\n",
       "    <tr>\n",
       "      <th>0</th>\n",
       "      <td>S1_5</td>\n",
       "      <td>1.647408</td>\n",
       "    </tr>\n",
       "    <tr>\n",
       "      <th>1</th>\n",
       "      <td>S2_5</td>\n",
       "      <td>1.773867</td>\n",
       "    </tr>\n",
       "    <tr>\n",
       "      <th>2</th>\n",
       "      <td>S3_5</td>\n",
       "      <td>1.810631</td>\n",
       "    </tr>\n",
       "    <tr>\n",
       "      <th>3</th>\n",
       "      <td>S4_5</td>\n",
       "      <td>1.558292</td>\n",
       "    </tr>\n",
       "    <tr>\n",
       "      <th>4</th>\n",
       "      <td>S1_10</td>\n",
       "      <td>1.410064</td>\n",
       "    </tr>\n",
       "    <tr>\n",
       "      <th>5</th>\n",
       "      <td>S2_10</td>\n",
       "      <td>1.675445</td>\n",
       "    </tr>\n",
       "    <tr>\n",
       "      <th>6</th>\n",
       "      <td>S3_10</td>\n",
       "      <td>1.560808</td>\n",
       "    </tr>\n",
       "    <tr>\n",
       "      <th>7</th>\n",
       "      <td>S4_10</td>\n",
       "      <td>1.529742</td>\n",
       "    </tr>\n",
       "  </tbody>\n",
       "</table>\n",
       "</div>"
      ],
      "text/plain": [
       "    Subj  concentrations(ng/ml)\n",
       "0   S1_5               1.647408\n",
       "1   S2_5               1.773867\n",
       "2   S3_5               1.810631\n",
       "3   S4_5               1.558292\n",
       "4  S1_10               1.410064\n",
       "5  S2_10               1.675445\n",
       "6  S3_10               1.560808\n",
       "7  S4_10               1.529742"
      ]
     },
     "execution_count": 226,
     "metadata": {},
     "output_type": "execute_result"
    }
   ],
   "source": [
    "comp_values= {'Subj':data['Subject'],\n",
    "    'concentrations(ng/ml)':[logistic_4(data.iloc[0,1],A, B, C, D),logistic_4(data.iloc[1,1],A, B, C, D),logistic_4(data.iloc[2,1],A, B, C, D),\n",
    "          logistic_4(data.iloc[3,1],A, B, C, D),logistic_4(data.iloc[4,1],A, B, C, D),logistic_4(data.iloc[5,1],A, B, C, D),\n",
    "          logistic_4(data.iloc[6,1],A, B, C, D),logistic_4(data.iloc[7,1],A, B, C, D)]}\n",
    "df_unsamp = pd.DataFrame(comp_values)\n",
    "df_unsamp"
   ]
  },
  {
   "cell_type": "code",
   "execution_count": null,
   "metadata": {},
   "outputs": [],
   "source": []
  },
  {
   "cell_type": "code",
   "execution_count": null,
   "metadata": {},
   "outputs": [],
   "source": []
  },
  {
   "cell_type": "code",
   "execution_count": 282,
   "metadata": {},
   "outputs": [
    {
     "data": {
      "text/html": [
       "<div>\n",
       "<style scoped>\n",
       "    .dataframe tbody tr th:only-of-type {\n",
       "        vertical-align: middle;\n",
       "    }\n",
       "\n",
       "    .dataframe tbody tr th {\n",
       "        vertical-align: top;\n",
       "    }\n",
       "\n",
       "    .dataframe thead th {\n",
       "        text-align: right;\n",
       "    }\n",
       "</style>\n",
       "<table border=\"1\" class=\"dataframe\">\n",
       "  <thead>\n",
       "    <tr style=\"text-align: right;\">\n",
       "      <th></th>\n",
       "      <th>samples</th>\n",
       "      <th>Run_1</th>\n",
       "      <th>Run_2</th>\n",
       "      <th>SD</th>\n",
       "      <th>CV(%)</th>\n",
       "      <th>avg_samples</th>\n",
       "    </tr>\n",
       "  </thead>\n",
       "  <tbody>\n",
       "    <tr>\n",
       "      <th>0</th>\n",
       "      <td>Vi</td>\n",
       "      <td>3.09495</td>\n",
       "      <td>3.33145</td>\n",
       "      <td>0.167231</td>\n",
       "      <td>5.204493</td>\n",
       "      <td>3.21320</td>\n",
       "    </tr>\n",
       "    <tr>\n",
       "      <th>1</th>\n",
       "      <td>Si</td>\n",
       "      <td>2.99175</td>\n",
       "      <td>2.95395</td>\n",
       "      <td>0.026729</td>\n",
       "      <td>0.899091</td>\n",
       "      <td>2.97285</td>\n",
       "    </tr>\n",
       "    <tr>\n",
       "      <th>2</th>\n",
       "      <td>Zi</td>\n",
       "      <td>2.67165</td>\n",
       "      <td>2.56045</td>\n",
       "      <td>0.078630</td>\n",
       "      <td>3.005687</td>\n",
       "      <td>2.61605</td>\n",
       "    </tr>\n",
       "    <tr>\n",
       "      <th>3</th>\n",
       "      <td>Ci</td>\n",
       "      <td>2.76035</td>\n",
       "      <td>3.01775</td>\n",
       "      <td>0.182009</td>\n",
       "      <td>6.299970</td>\n",
       "      <td>2.88905</td>\n",
       "    </tr>\n",
       "    <tr>\n",
       "      <th>4</th>\n",
       "      <td>Cs</td>\n",
       "      <td>3.00285</td>\n",
       "      <td>3.11375</td>\n",
       "      <td>0.078418</td>\n",
       "      <td>2.564109</td>\n",
       "      <td>3.05830</td>\n",
       "    </tr>\n",
       "    <tr>\n",
       "      <th>5</th>\n",
       "      <td>Ai</td>\n",
       "      <td>2.75305</td>\n",
       "      <td>2.54035</td>\n",
       "      <td>0.150402</td>\n",
       "      <td>5.682609</td>\n",
       "      <td>2.64670</td>\n",
       "    </tr>\n",
       "    <tr>\n",
       "      <th>6</th>\n",
       "      <td>As</td>\n",
       "      <td>2.54115</td>\n",
       "      <td>2.64005</td>\n",
       "      <td>0.069933</td>\n",
       "      <td>2.699485</td>\n",
       "      <td>2.59060</td>\n",
       "    </tr>\n",
       "  </tbody>\n",
       "</table>\n",
       "</div>"
      ],
      "text/plain": [
       "  samples    Run_1    Run_2        SD     CV(%)  avg_samples\n",
       "0      Vi  3.09495  3.33145  0.167231  5.204493      3.21320\n",
       "1      Si  2.99175  2.95395  0.026729  0.899091      2.97285\n",
       "2      Zi  2.67165  2.56045  0.078630  3.005687      2.61605\n",
       "3      Ci  2.76035  3.01775  0.182009  6.299970      2.88905\n",
       "4      Cs  3.00285  3.11375  0.078418  2.564109      3.05830\n",
       "5      Ai  2.75305  2.54035  0.150402  5.682609      2.64670\n",
       "6      As  2.54115  2.64005  0.069933  2.699485      2.59060"
      ]
     },
     "execution_count": 282,
     "metadata": {},
     "output_type": "execute_result"
    }
   ],
   "source": [
    "samples"
   ]
  },
  {
   "cell_type": "markdown",
   "metadata": {},
   "source": [
    "### Computed values"
   ]
  },
  {
   "cell_type": "code",
   "execution_count": 315,
   "metadata": {},
   "outputs": [
    {
     "data": {
      "text/html": [
       "<div>\n",
       "<style scoped>\n",
       "    .dataframe tbody tr th:only-of-type {\n",
       "        vertical-align: middle;\n",
       "    }\n",
       "\n",
       "    .dataframe tbody tr th {\n",
       "        vertical-align: top;\n",
       "    }\n",
       "\n",
       "    .dataframe thead th {\n",
       "        text-align: right;\n",
       "    }\n",
       "</style>\n",
       "<table border=\"1\" class=\"dataframe\">\n",
       "  <thead>\n",
       "    <tr style=\"text-align: right;\">\n",
       "      <th></th>\n",
       "      <th>samples</th>\n",
       "      <th>OD</th>\n",
       "    </tr>\n",
       "  </thead>\n",
       "  <tbody>\n",
       "    <tr>\n",
       "      <th>0</th>\n",
       "      <td>Vi</td>\n",
       "      <td>237.562427</td>\n",
       "    </tr>\n",
       "    <tr>\n",
       "      <th>1</th>\n",
       "      <td>Si</td>\n",
       "      <td>196.758735</td>\n",
       "    </tr>\n",
       "    <tr>\n",
       "      <th>2</th>\n",
       "      <td>Zi</td>\n",
       "      <td>144.548300</td>\n",
       "    </tr>\n",
       "    <tr>\n",
       "      <th>3</th>\n",
       "      <td>Ci</td>\n",
       "      <td>183.613702</td>\n",
       "    </tr>\n",
       "    <tr>\n",
       "      <th>4</th>\n",
       "      <td>Cs</td>\n",
       "      <td>210.733870</td>\n",
       "    </tr>\n",
       "    <tr>\n",
       "      <th>5</th>\n",
       "      <td>Ai</td>\n",
       "      <td>148.652794</td>\n",
       "    </tr>\n",
       "    <tr>\n",
       "      <th>6</th>\n",
       "      <td>As</td>\n",
       "      <td>141.193331</td>\n",
       "    </tr>\n",
       "  </tbody>\n",
       "</table>\n",
       "</div>"
      ],
      "text/plain": [
       "  samples          OD\n",
       "0      Vi  237.562427\n",
       "1      Si  196.758735\n",
       "2      Zi  144.548300\n",
       "3      Ci  183.613702\n",
       "4      Cs  210.733870\n",
       "5      Ai  148.652794\n",
       "6      As  141.193331"
      ]
     },
     "execution_count": 315,
     "metadata": {},
     "output_type": "execute_result"
    }
   ],
   "source": [
    "A, B , C, D = ET_popt\n",
    "comp_values= {'samples':['Vi','Si','Zi','Ci','Cs','Ai','As'],\n",
    "    'OD':[logistic_4(samples.iloc[0,5],A, B, C, D),logistic_4(samples.iloc[1,5],A, B, C, D),logistic_4(samples.iloc[2,5],A, B, C, D),\n",
    "          logistic_4(samples.iloc[3,5],A, B, C, D),logistic_4(samples.iloc[4,5],A, B, C, D),logistic_4(samples.iloc[5,5],A, B, C, D),\n",
    "          logistic_4(samples.iloc[6,5],A, B, C, D)]}\n",
    "df_comp = pd.DataFrame(comp_values)\n",
    "df_comp['OD']= df_comp['OD']*10\n",
    "df_comp"
   ]
  },
  {
   "cell_type": "code",
   "execution_count": 332,
   "metadata": {},
   "outputs": [
    {
     "data": {
      "image/png": "[encoded data removed]",
      "text/plain": [
       "<Figure size 576x432 with 1 Axes>"
      ]
     },
     "metadata": {
      "needs_background": "light"
     },
     "output_type": "display_data"
    }
   ],
   "source": [
    "ax = df_comp.plot.bar(x='samples',y='OD',rot=0,width=0.8,figsize=(8,6))\n",
    "plt.title('BDNF',fontsize=14)\n",
    "plt.xlabel('Subjects',fontsize=14)\n",
    "plt.ylabel('Concentrations (ng/ml)',fontsize=14)\n",
    "plt.xticks(fontsize=14)\n",
    "plt.yticks(fontsize=14)\n",
    "plt.show()\n"
   ]
  },
  {
   "cell_type": "markdown",
   "metadata": {},
   "source": [
    "### Conclusion\n",
    "In healthy subjects, BDNF levels range from 12.2 ± 2.4 [mean ± standard deviation (SD)] to 64.1 ± 13.1 ng/mL. Unfortunately, our analysis revealed that the BDNF level from subjects are ten times higher than the published paper. We still need to do more experiments to get validated results."
   ]
  }
 ],
 "metadata": {
  "kernelspec": {
   "display_name": "Python 3.9.5 ('ds')",
   "language": "python",
   "name": "python3"
  },
  "language_info": {
   "codemirror_mode": {
    "name": "ipython",
    "version": 3
   },
   "file_extension": ".py",
   "mimetype": "text/x-python",
   "name": "python",
   "nbconvert_exporter": "python",
   "pygments_lexer": "ipython3",
   "version": "3.9.5"
  },
  "orig_nbformat": 4,
  "vscode": {
   "interpreter": {
    "hash": "37e48532695005f6b8be481dca9311b0406960c07b920c9bcff5b3361c45626c"
   }
  }
 },
 "nbformat": 4,
 "nbformat_minor": 2
}
