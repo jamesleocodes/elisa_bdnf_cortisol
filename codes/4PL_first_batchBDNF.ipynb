{
 "cells": [
  {
   "attachments": {},
   "cell_type": "markdown",
   "metadata": {},
   "source": [
    "#### Introdcution\n",
    "The Brain-Derived Neurotrophic Factor (BDNF) is a protein that plays a crucial role in the growth, development, and maintenance of neurons in the brain. In recent years, research has focused on identifying ways to increase BDNF levels to promote brain health and treat neurological disorders. In this context, a pilot study was conducted on four subjects to investigate the effectiveness of an intervention in improving BDNF levels. The study observed varying degrees of success, and the findings suggest the need for further research in this area."
   ]
  },
  {
   "cell_type": "code",
   "execution_count": 2,
   "metadata": {},
   "outputs": [],
   "source": [
    "\"\"\"\n",
    "Created on Tuesday 8 Nov 2022\n",
    "Author: ZMW\n",
    "\"\"\"\n",
    "#import libraries\n",
    "import pandas as pd\n",
    "import numpy as np\n",
    "import os\n",
    "import matplotlib.pyplot as plt\n",
    "import statistics\n",
    "from scipy.optimize import curve_fit\n",
    "from sklearn.metrics import r2_score\n",
    "import numpy.random as npr\n",
    "from scipy.optimize import leastsq\n",
    "import warnings\n",
    "warnings.filterwarnings('ignore')"
   ]
  },
  {
   "cell_type": "code",
   "execution_count": 4,
   "metadata": {},
   "outputs": [],
   "source": [
    "#data path\n",
    "path = os.getcwd()\n",
    "dirname = os.path.dirname(path)\n",
    "data_file = 'data/bdnf_1Aug2023.xlsx' # read raw data\n",
    "data_path = os.path.join(dirname,data_file)"
   ]
  },
  {
   "cell_type": "code",
   "execution_count": 7,
   "metadata": {},
   "outputs": [],
   "source": [
    "#Load the fitted dataset\n",
    "data = pd.read_excel(data_path)\n",
    "data = data.iloc[9:17,1:5]#slice rows and columns where data exist\n",
    "#data = data.loc[:,~data.columns.str.contains('Unnamed')]\n",
    "data.columns = ['STD_1','Sample','Sample','STD_2']\n",
    "data = data.reset_index(drop=True)\n"
   ]
  },
  {
   "attachments": {},
   "cell_type": "markdown",
   "metadata": {},
   "source": [
    "#### Plate layout"
   ]
  },
  {
   "attachments": {},
   "cell_type": "markdown",
   "metadata": {},
   "source": [
    "|  Standard | Sample | Sample | Standard |\n",
    "|---|---|---|---|\n",
    "|  SD1 | S1B | S3B | SD1  |  \n",
    "|  SD2 |  S1B | S3B | SD2  | \n",
    "|  SD3 | S1P |  S3P | SD3  | \n",
    "|  SD4 |  S1P|  S3P |  SD4 | \n",
    "|  SD5 |  S2B |   S4B|   SD5|  \n",
    "|  SD6 |   S2B|  S4B|  SD6 |  \n",
    "|  SD7 |  S2P|  S4P | SD7 | \n",
    "|  blank |  S2P|   S4P| blank | "
   ]
  },
  {
   "attachments": {},
   "cell_type": "markdown",
   "metadata": {},
   "source": [
    "### Raw"
   ]
  },
  {
   "cell_type": "code",
   "execution_count": 9,
   "metadata": {},
   "outputs": [
    {
     "data": {
      "text/html": [
       "<div>\n",
       "<style scoped>\n",
       "    .dataframe tbody tr th:only-of-type {\n",
       "        vertical-align: middle;\n",
       "    }\n",
       "\n",
       "    .dataframe tbody tr th {\n",
       "        vertical-align: top;\n",
       "    }\n",
       "\n",
       "    .dataframe thead th {\n",
       "        text-align: right;\n",
       "    }\n",
       "</style>\n",
       "<table border=\"1\" class=\"dataframe\">\n",
       "  <thead>\n",
       "    <tr style=\"text-align: right;\">\n",
       "      <th></th>\n",
       "      <th>STD_1</th>\n",
       "      <th>Sample</th>\n",
       "      <th>Sample</th>\n",
       "      <th>STD_2</th>\n",
       "    </tr>\n",
       "  </thead>\n",
       "  <tbody>\n",
       "    <tr>\n",
       "      <th>0</th>\n",
       "      <td>2.8924</td>\n",
       "      <td>1.9646</td>\n",
       "      <td>2.86685</td>\n",
       "      <td>2.625</td>\n",
       "    </tr>\n",
       "    <tr>\n",
       "      <th>1</th>\n",
       "      <td>2.2235</td>\n",
       "      <td>1.6891</td>\n",
       "      <td>2.6443</td>\n",
       "      <td>1.966</td>\n",
       "    </tr>\n",
       "    <tr>\n",
       "      <th>2</th>\n",
       "      <td>1.3228</td>\n",
       "      <td>1.8976</td>\n",
       "      <td>2.6443</td>\n",
       "      <td>1.966</td>\n",
       "    </tr>\n",
       "    <tr>\n",
       "      <th>3</th>\n",
       "      <td>0.6515</td>\n",
       "      <td>1.7714</td>\n",
       "      <td>2.2898</td>\n",
       "      <td>0.5458</td>\n",
       "    </tr>\n",
       "    <tr>\n",
       "      <th>4</th>\n",
       "      <td>0.3314</td>\n",
       "      <td>2.4695</td>\n",
       "      <td>3.1526</td>\n",
       "      <td>0.2816</td>\n",
       "    </tr>\n",
       "    <tr>\n",
       "      <th>5</th>\n",
       "      <td>0.2322</td>\n",
       "      <td>2.2032</td>\n",
       "      <td>2.9162</td>\n",
       "      <td>0.1798</td>\n",
       "    </tr>\n",
       "    <tr>\n",
       "      <th>6</th>\n",
       "      <td>0.1511</td>\n",
       "      <td>2.7705</td>\n",
       "      <td>2.5525</td>\n",
       "      <td>0.1197</td>\n",
       "    </tr>\n",
       "    <tr>\n",
       "      <th>7</th>\n",
       "      <td>0.1041</td>\n",
       "      <td>2.6266</td>\n",
       "      <td>2.4415</td>\n",
       "      <td>0.0879</td>\n",
       "    </tr>\n",
       "  </tbody>\n",
       "</table>\n",
       "</div>"
      ],
      "text/plain": [
       "    STD_1  Sample   Sample   STD_2\n",
       "0  2.8924  1.9646  2.86685   2.625\n",
       "1  2.2235  1.6891   2.6443   1.966\n",
       "2  1.3228  1.8976   2.6443   1.966\n",
       "3  0.6515  1.7714   2.2898  0.5458\n",
       "4  0.3314  2.4695   3.1526  0.2816\n",
       "5  0.2322  2.2032   2.9162  0.1798\n",
       "6  0.1511  2.7705   2.5525  0.1197\n",
       "7  0.1041  2.6266   2.4415  0.0879"
      ]
     },
     "execution_count": 9,
     "metadata": {},
     "output_type": "execute_result"
    }
   ],
   "source": [
    "data"
   ]
  },
  {
   "attachments": {},
   "cell_type": "markdown",
   "metadata": {},
   "source": [
    "### Average concentration"
   ]
  },
  {
   "cell_type": "code",
   "execution_count": 10,
   "metadata": {},
   "outputs": [],
   "source": [
    "# Standard\n",
    "STD1 = statistics.mean([data.iloc[0,0],data.iloc[0,3]])\n",
    "STD2 = statistics.mean([data.iloc[1,0],data.iloc[1,3]])\n",
    "STD3 = statistics.mean([data.iloc[2,0],data.iloc[2,3]])\n",
    "STD4 = statistics.mean([data.iloc[3,0],data.iloc[3,3]])\n",
    "STD5 = statistics.mean([data.iloc[4,0],data.iloc[4,3]])\n",
    "STD6= statistics.mean([data.iloc[5,0],data.iloc[5,3]])\n",
    "STD7 = statistics.mean([data.iloc[6,0],data.iloc[6,3]])\n",
    "STD8 = statistics.mean([data.iloc[7,0],data.iloc[7,3]])\n",
    "\n",
    "# Unknown samples\n",
    "S1_5 = statistics.mean([data.iloc[0,1],data.iloc[1,1]])\n",
    "S2_5 = statistics.mean([data.iloc[2,1],data.iloc[3,1]])\n",
    "S3_5 = statistics.mean([data.iloc[4,1],data.iloc[5,1]])\n",
    "S4_5 = statistics.mean([data.iloc[6,1],data.iloc[7,1]])\n",
    "\n",
    "S1_10 = statistics.mean([data.iloc[0,2],data.iloc[1,2]])\n",
    "S2_10 = statistics.mean([data.iloc[2,2],data.iloc[3,2]])\n",
    "S3_10 = statistics.mean([data.iloc[4,2],data.iloc[5,2]])\n",
    "S4_10 = statistics.mean([data.iloc[6,2],data.iloc[7,2]])"
   ]
  },
  {
   "attachments": {},
   "cell_type": "markdown",
   "metadata": {},
   "source": [
    "### Blank correction"
   ]
  },
  {
   "cell_type": "code",
   "execution_count": 11,
   "metadata": {},
   "outputs": [],
   "source": [
    "# Standard\n",
    "STD1 = STD1-STD8\n",
    "STD2 = STD2-STD8\n",
    "STD3 = STD3-STD8\n",
    "STD4 = STD4-STD8\n",
    "STD5 = STD5-STD8\n",
    "STD6 = STD6-STD8\n",
    "STD7 = STD7-STD8\n",
    "\n",
    "# Unknown samples\n",
    "# Unknown samples\n",
    "S1_5 = S1_5 - STD8\n",
    "S2_5 = S2_5 - STD8\n",
    "S3_5 = S3_5 - STD8\n",
    "S4_5 = S4_5 - STD8\n",
    "\n",
    "S1_10 = S1_10 - STD8\n",
    "S2_10 = S2_10 - STD8\n",
    "S3_10 = S3_10 - STD8\n",
    "S4_10 = S4_10 - STD8"
   ]
  },
  {
   "cell_type": "code",
   "execution_count": 34,
   "metadata": {},
   "outputs": [],
   "source": [
    "# Sample dataframe\n",
    "col = {'Subject':['S1B','S1P','S2B','S2P','S3B','S3P','S4B','S4P'],'Unknown_Samples':[S1_5,S2_5,S3_5,S4_5,S1_10,S2_10,S3_10,S4_10],'Standard':[STD1,STD2,STD3,STD4,STD5,STD6,STD7,STD8]}\n",
    "data = pd.DataFrame.from_dict(col)"
   ]
  },
  {
   "cell_type": "code",
   "execution_count": 36,
   "metadata": {},
   "outputs": [
    {
     "data": {
      "text/html": [
       "<div>\n",
       "<style scoped>\n",
       "    .dataframe tbody tr th:only-of-type {\n",
       "        vertical-align: middle;\n",
       "    }\n",
       "\n",
       "    .dataframe tbody tr th {\n",
       "        vertical-align: top;\n",
       "    }\n",
       "\n",
       "    .dataframe thead th {\n",
       "        text-align: right;\n",
       "    }\n",
       "</style>\n",
       "<table border=\"1\" class=\"dataframe\">\n",
       "  <thead>\n",
       "    <tr style=\"text-align: right;\">\n",
       "      <th></th>\n",
       "      <th>Subject</th>\n",
       "      <th>Unknown_Samples</th>\n",
       "      <th>Standard</th>\n",
       "    </tr>\n",
       "  </thead>\n",
       "  <tbody>\n",
       "    <tr>\n",
       "      <th>0</th>\n",
       "      <td>S1B</td>\n",
       "      <td>1.730850</td>\n",
       "      <td>2.66270</td>\n",
       "    </tr>\n",
       "    <tr>\n",
       "      <th>1</th>\n",
       "      <td>S1P</td>\n",
       "      <td>1.738500</td>\n",
       "      <td>1.99875</td>\n",
       "    </tr>\n",
       "    <tr>\n",
       "      <th>2</th>\n",
       "      <td>S2B</td>\n",
       "      <td>2.240350</td>\n",
       "      <td>1.54840</td>\n",
       "    </tr>\n",
       "    <tr>\n",
       "      <th>3</th>\n",
       "      <td>S2P</td>\n",
       "      <td>2.602550</td>\n",
       "      <td>0.50265</td>\n",
       "    </tr>\n",
       "    <tr>\n",
       "      <th>4</th>\n",
       "      <td>S3B</td>\n",
       "      <td>2.659575</td>\n",
       "      <td>0.21050</td>\n",
       "    </tr>\n",
       "    <tr>\n",
       "      <th>5</th>\n",
       "      <td>S3P</td>\n",
       "      <td>2.371050</td>\n",
       "      <td>0.11000</td>\n",
       "    </tr>\n",
       "    <tr>\n",
       "      <th>6</th>\n",
       "      <td>S4B</td>\n",
       "      <td>2.938400</td>\n",
       "      <td>0.03940</td>\n",
       "    </tr>\n",
       "    <tr>\n",
       "      <th>7</th>\n",
       "      <td>S4P</td>\n",
       "      <td>2.401000</td>\n",
       "      <td>0.09600</td>\n",
       "    </tr>\n",
       "  </tbody>\n",
       "</table>\n",
       "</div>"
      ],
      "text/plain": [
       "  Subject  Unknown_Samples  Standard\n",
       "0     S1B         1.730850   2.66270\n",
       "1     S1P         1.738500   1.99875\n",
       "2     S2B         2.240350   1.54840\n",
       "3     S2P         2.602550   0.50265\n",
       "4     S3B         2.659575   0.21050\n",
       "5     S3P         2.371050   0.11000\n",
       "6     S4B         2.938400   0.03940\n",
       "7     S4P         2.401000   0.09600"
      ]
     },
     "execution_count": 36,
     "metadata": {},
     "output_type": "execute_result"
    }
   ],
   "source": [
    "data"
   ]
  },
  {
   "attachments": {},
   "cell_type": "markdown",
   "metadata": {},
   "source": [
    "# 4PL curve fit for standard"
   ]
  },
  {
   "cell_type": "code",
   "execution_count": 37,
   "metadata": {},
   "outputs": [
    {
     "data": {
      "text/html": [
       "<div>\n",
       "<style scoped>\n",
       "    .dataframe tbody tr th:only-of-type {\n",
       "        vertical-align: middle;\n",
       "    }\n",
       "\n",
       "    .dataframe tbody tr th {\n",
       "        vertical-align: top;\n",
       "    }\n",
       "\n",
       "    .dataframe thead th {\n",
       "        text-align: right;\n",
       "    }\n",
       "</style>\n",
       "<table border=\"1\" class=\"dataframe\">\n",
       "  <thead>\n",
       "    <tr style=\"text-align: right;\">\n",
       "      <th></th>\n",
       "      <th>concentrations(ng/ml)</th>\n",
       "      <th>STD_OD</th>\n",
       "    </tr>\n",
       "  </thead>\n",
       "  <tbody>\n",
       "    <tr>\n",
       "      <th>0</th>\n",
       "      <td>16.000</td>\n",
       "      <td>2.66270</td>\n",
       "    </tr>\n",
       "    <tr>\n",
       "      <th>1</th>\n",
       "      <td>6.400</td>\n",
       "      <td>1.99875</td>\n",
       "    </tr>\n",
       "    <tr>\n",
       "      <th>2</th>\n",
       "      <td>2.560</td>\n",
       "      <td>1.54840</td>\n",
       "    </tr>\n",
       "    <tr>\n",
       "      <th>3</th>\n",
       "      <td>1.024</td>\n",
       "      <td>0.50265</td>\n",
       "    </tr>\n",
       "    <tr>\n",
       "      <th>4</th>\n",
       "      <td>0.410</td>\n",
       "      <td>0.21050</td>\n",
       "    </tr>\n",
       "    <tr>\n",
       "      <th>5</th>\n",
       "      <td>0.164</td>\n",
       "      <td>0.11000</td>\n",
       "    </tr>\n",
       "    <tr>\n",
       "      <th>6</th>\n",
       "      <td>0.066</td>\n",
       "      <td>0.03940</td>\n",
       "    </tr>\n",
       "  </tbody>\n",
       "</table>\n",
       "</div>"
      ],
      "text/plain": [
       "   concentrations(ng/ml)   STD_OD\n",
       "0                 16.000  2.66270\n",
       "1                  6.400  1.99875\n",
       "2                  2.560  1.54840\n",
       "3                  1.024  0.50265\n",
       "4                  0.410  0.21050\n",
       "5                  0.164  0.11000\n",
       "6                  0.066  0.03940"
      ]
     },
     "execution_count": 37,
     "metadata": {},
     "output_type": "execute_result"
    }
   ],
   "source": [
    "concen_ng_ml =  [16, 6.4, 2.56, 1.024, 0.41, 0.164,0.066]\n",
    "std = {'concentrations(ng/ml)':concen_ng_ml,'STD_OD':data['Standard'][:-1]}\n",
    "df_std = pd.DataFrame(std)\n",
    "df_std"
   ]
  },
  {
   "attachments": {},
   "cell_type": "markdown",
   "metadata": {},
   "source": [
    "### 4PL curve fitting"
   ]
  },
  {
   "attachments": {},
   "cell_type": "markdown",
   "metadata": {},
   "source": [
    "We want to fit a 4 parameter logistic (4PL) equation to ELISA data. The equation for the 4PL model is"
   ]
  },
  {
   "attachments": {},
   "cell_type": "markdown",
   "metadata": {},
   "source": [
    "<img src=\"4pl.png\" alt=\"drawing\" width=\"200\"/>"
   ]
  },
  {
   "attachments": {},
   "cell_type": "markdown",
   "metadata": {},
   "source": [
    "where \\(y\\) is the reponse(i.e absorbance), \\(x\\) is the concentration of analyte, \\(a\\) is the minimum asymptote, \\(b\\) is the steepness, \\(c\\) is the inflection point and \\(d\\) is the maximum asymptote."
   ]
  },
  {
   "cell_type": "code",
   "execution_count": 38,
   "metadata": {},
   "outputs": [],
   "source": [
    "# define function for y\n",
    "def logistic_4(x, A, B, C, D):\n",
    "    \"\"\" 4PL logistic equation\"\"\"\n",
    "    return ((A - D) / (1.0 + ((x / C) ** B))) + D"
   ]
  },
  {
   "cell_type": "code",
   "execution_count": 39,
   "metadata": {},
   "outputs": [],
   "source": [
    "# define function for x for unknow concentration\n",
    "def fourpl(y, A, B, C, D):\n",
    "    \"\"\" 4PL logistic equation\"\"\"\n",
    "    return C * ((A-D)/(y-D)-1)**(1/B)"
   ]
  },
  {
   "cell_type": "code",
   "execution_count": 40,
   "metadata": {},
   "outputs": [],
   "source": [
    "# initial guesses\n",
    "InitialGuess = [np.min(df_std['STD_OD']), 1, np.median(concen_ng_ml), np.max(df_std['STD_OD'])]"
   ]
  },
  {
   "cell_type": "code",
   "execution_count": 41,
   "metadata": {},
   "outputs": [],
   "source": [
    "# # initial guesses\n",
    "# InitialGuess = [0, 2, np.mean(concen_ng_ml), 1]"
   ]
  },
  {
   "cell_type": "code",
   "execution_count": 42,
   "metadata": {},
   "outputs": [],
   "source": [
    "# initial guesses\n",
    "InitialGuess = [0.0846, 1.13705, 1.89435, 2.72295]"
   ]
  },
  {
   "cell_type": "code",
   "execution_count": 43,
   "metadata": {},
   "outputs": [],
   "source": [
    "x = df_std['concentrations(ng/ml)'].values.flatten()\n",
    "y = df_std['STD_OD'].values.flatten()"
   ]
  },
  {
   "cell_type": "code",
   "execution_count": 44,
   "metadata": {},
   "outputs": [
    {
     "name": "stdout",
     "output_type": "stream",
     "text": [
      "ET fit R^2:  0.9885570917863247\n"
     ]
    }
   ],
   "source": [
    "#curve fit data into model\n",
    "ET_popt, ET_pcov = curve_fit(logistic_4, x, y, p0=InitialGuess)\n",
    "ET_perr = np.sqrt(np.diag(ET_pcov))\n",
    "\n",
    "y_pred = logistic_4(x, *ET_popt)\n",
    "\n",
    "R_sq_ET = r2_score(y_pred, y)\n",
    "\n",
    "#print(ET_popt) # print fitted parameters\n",
    "print(\"ET fit R^2: \", R_sq_ET)"
   ]
  },
  {
   "cell_type": "code",
   "execution_count": 45,
   "metadata": {},
   "outputs": [
    {
     "data": {
      "image/png": "[encoded data removed]",
      "text/plain": [
       "<Figure size 432x288 with 1 Axes>"
      ]
     },
     "metadata": {
      "needs_background": "light"
     },
     "output_type": "display_data"
    }
   ],
   "source": [
    "fig, ax = plt.subplots()\n",
    "#ax.plot(x,y)\n",
    "\n",
    "# Set the x-axis scale to 0.01, 0.1, 1, 10, and 100\n",
    "ax.set_xscale('log')\n",
    "ax.set_xticks([0.01, 0.1, 1, 10, 100])\n",
    "ax.get_xaxis().set_major_formatter(plt.ScalarFormatter())\n",
    "ax.set_xlim([0.04, 100])\n",
    "\n",
    "\n",
    "# Set the y-axis scale to 0.01, 0.1, 1, and 10\n",
    "ax.set_yscale('log')\n",
    "ax.set_yticks([0.01, 0.1, 1, 10])\n",
    "ax.get_yaxis().set_major_formatter(plt.ScalarFormatter())\n",
    "#ax.set_ylim([0.05, 10])\n",
    "\n",
    "plt.scatter(x,y,label='Data')\n",
    "plt.plot(x, logistic_4(x, *ET_popt), 'r', label=\"4PL Fit\")\n",
    "plt.title('Elisa Kit(BDNF)')\n",
    "plt.xlabel('BDNF Concentration (ng/ml)')\n",
    "plt.ylabel('OD=450(nm)')\n",
    "plt.legend()\n",
    "plt.show()"
   ]
  },
  {
   "cell_type": "code",
   "execution_count": 46,
   "metadata": {},
   "outputs": [
    {
     "name": "stdout",
     "output_type": "stream",
     "text": [
      "A = 0.009950376048736045\n",
      "B = 1.3382406222680037\n",
      "C = 2.6859266326510993\n",
      "D = 2.8310898223254206\n",
      "R-squared = 0.9885570917863247\n"
     ]
    }
   ],
   "source": [
    "# Print the parameter values and R-squared value\n",
    "A = ET_popt[0]\n",
    "B = ET_popt[1]\n",
    "C = ET_popt[2]\n",
    "D = ET_popt[3]\n",
    "\n",
    "\n",
    "print('A =', ET_popt[0])\n",
    "print('B =', ET_popt[1])\n",
    "print('C =', ET_popt[2])\n",
    "print('D =', ET_popt[3])\n",
    "print('R-squared =', R_sq_ET)"
   ]
  },
  {
   "attachments": {},
   "cell_type": "markdown",
   "metadata": {},
   "source": [
    "### Fit unknown sample OD values to the 4-parameter logistic (4PL) curve"
   ]
  },
  {
   "cell_type": "code",
   "execution_count": 47,
   "metadata": {},
   "outputs": [
    {
     "data": {
      "text/html": [
       "<div>\n",
       "<style scoped>\n",
       "    .dataframe tbody tr th:only-of-type {\n",
       "        vertical-align: middle;\n",
       "    }\n",
       "\n",
       "    .dataframe tbody tr th {\n",
       "        vertical-align: top;\n",
       "    }\n",
       "\n",
       "    .dataframe thead th {\n",
       "        text-align: right;\n",
       "    }\n",
       "</style>\n",
       "<table border=\"1\" class=\"dataframe\">\n",
       "  <thead>\n",
       "    <tr style=\"text-align: right;\">\n",
       "      <th></th>\n",
       "      <th>Subject</th>\n",
       "      <th>Unknown_Samples</th>\n",
       "      <th>Standard</th>\n",
       "    </tr>\n",
       "  </thead>\n",
       "  <tbody>\n",
       "    <tr>\n",
       "      <th>0</th>\n",
       "      <td>S1B</td>\n",
       "      <td>1.730850</td>\n",
       "      <td>2.66270</td>\n",
       "    </tr>\n",
       "    <tr>\n",
       "      <th>1</th>\n",
       "      <td>S1P</td>\n",
       "      <td>1.738500</td>\n",
       "      <td>1.99875</td>\n",
       "    </tr>\n",
       "    <tr>\n",
       "      <th>2</th>\n",
       "      <td>S2B</td>\n",
       "      <td>2.240350</td>\n",
       "      <td>1.54840</td>\n",
       "    </tr>\n",
       "    <tr>\n",
       "      <th>3</th>\n",
       "      <td>S2P</td>\n",
       "      <td>2.602550</td>\n",
       "      <td>0.50265</td>\n",
       "    </tr>\n",
       "    <tr>\n",
       "      <th>4</th>\n",
       "      <td>S3B</td>\n",
       "      <td>2.659575</td>\n",
       "      <td>0.21050</td>\n",
       "    </tr>\n",
       "    <tr>\n",
       "      <th>5</th>\n",
       "      <td>S3P</td>\n",
       "      <td>2.371050</td>\n",
       "      <td>0.11000</td>\n",
       "    </tr>\n",
       "    <tr>\n",
       "      <th>6</th>\n",
       "      <td>S4B</td>\n",
       "      <td>2.938400</td>\n",
       "      <td>0.03940</td>\n",
       "    </tr>\n",
       "    <tr>\n",
       "      <th>7</th>\n",
       "      <td>S4P</td>\n",
       "      <td>2.401000</td>\n",
       "      <td>0.09600</td>\n",
       "    </tr>\n",
       "  </tbody>\n",
       "</table>\n",
       "</div>"
      ],
      "text/plain": [
       "  Subject  Unknown_Samples  Standard\n",
       "0     S1B         1.730850   2.66270\n",
       "1     S1P         1.738500   1.99875\n",
       "2     S2B         2.240350   1.54840\n",
       "3     S2P         2.602550   0.50265\n",
       "4     S3B         2.659575   0.21050\n",
       "5     S3P         2.371050   0.11000\n",
       "6     S4B         2.938400   0.03940\n",
       "7     S4P         2.401000   0.09600"
      ]
     },
     "execution_count": 47,
     "metadata": {},
     "output_type": "execute_result"
    }
   ],
   "source": [
    "data"
   ]
  },
  {
   "cell_type": "code",
   "execution_count": 48,
   "metadata": {},
   "outputs": [
    {
     "data": {
      "text/plain": [
       "5.086678706554199"
      ]
     },
     "execution_count": 48,
     "metadata": {},
     "output_type": "execute_result"
    }
   ],
   "source": [
    "logistic_4(data.iloc[0,1],A, B, C, D)*5"
   ]
  },
  {
   "cell_type": "code",
   "execution_count": 49,
   "metadata": {},
   "outputs": [
    {
     "data": {
      "text/plain": [
       "1.303102192508905"
      ]
     },
     "execution_count": 49,
     "metadata": {},
     "output_type": "execute_result"
    }
   ],
   "source": [
    "logistic_4(data.iloc[5,1],A, B, C, D)"
   ]
  },
  {
   "cell_type": "code",
   "execution_count": 50,
   "metadata": {},
   "outputs": [
    {
     "data": {
      "text/html": [
       "<div>\n",
       "<style scoped>\n",
       "    .dataframe tbody tr th:only-of-type {\n",
       "        vertical-align: middle;\n",
       "    }\n",
       "\n",
       "    .dataframe tbody tr th {\n",
       "        vertical-align: top;\n",
       "    }\n",
       "\n",
       "    .dataframe thead th {\n",
       "        text-align: right;\n",
       "    }\n",
       "</style>\n",
       "<table border=\"1\" class=\"dataframe\">\n",
       "  <thead>\n",
       "    <tr style=\"text-align: right;\">\n",
       "      <th></th>\n",
       "      <th>Sample</th>\n",
       "      <th>conc(ng/ml)</th>\n",
       "      <th>Dilutions</th>\n",
       "    </tr>\n",
       "  </thead>\n",
       "  <tbody>\n",
       "    <tr>\n",
       "      <th>0</th>\n",
       "      <td>S1B</td>\n",
       "      <td>18.759921</td>\n",
       "      <td>5 fold</td>\n",
       "    </tr>\n",
       "    <tr>\n",
       "      <th>1</th>\n",
       "      <td>S1P</td>\n",
       "      <td>18.920594</td>\n",
       "      <td>5 fold</td>\n",
       "    </tr>\n",
       "    <tr>\n",
       "      <th>2</th>\n",
       "      <td>S2B</td>\n",
       "      <td>36.242415</td>\n",
       "      <td>5 fold</td>\n",
       "    </tr>\n",
       "    <tr>\n",
       "      <th>3</th>\n",
       "      <td>S2P</td>\n",
       "      <td>82.460024</td>\n",
       "      <td>5 fold</td>\n",
       "    </tr>\n",
       "    <tr>\n",
       "      <th>4</th>\n",
       "      <td>S3B</td>\n",
       "      <td>207.723900</td>\n",
       "      <td>5 fold</td>\n",
       "    </tr>\n",
       "    <tr>\n",
       "      <th>5</th>\n",
       "      <td>S3P</td>\n",
       "      <td>45.587920</td>\n",
       "      <td>5 fold</td>\n",
       "    </tr>\n",
       "    <tr>\n",
       "      <th>6</th>\n",
       "      <td>S4B</td>\n",
       "      <td>NaN</td>\n",
       "      <td>5 fold</td>\n",
       "    </tr>\n",
       "    <tr>\n",
       "      <th>7</th>\n",
       "      <td>S4P</td>\n",
       "      <td>48.393521</td>\n",
       "      <td>5 fold</td>\n",
       "    </tr>\n",
       "  </tbody>\n",
       "</table>\n",
       "</div>"
      ],
      "text/plain": [
       "  Sample  conc(ng/ml) Dilutions\n",
       "0    S1B    18.759921    5 fold\n",
       "1    S1P    18.920594    5 fold\n",
       "2    S2B    36.242415    5 fold\n",
       "3    S2P    82.460024    5 fold\n",
       "4    S3B   207.723900    5 fold\n",
       "5    S3P    45.587920    5 fold\n",
       "6    S4B          NaN    5 fold\n",
       "7    S4P    48.393521    5 fold"
      ]
     },
     "execution_count": 50,
     "metadata": {},
     "output_type": "execute_result"
    }
   ],
   "source": [
    "comp_values= {'Sample':data['Subject'],\n",
    "    'conc(ng/ml)':[fourpl(data.iloc[0,1],A, B, C, D)*5,fourpl(data.iloc[1,1],A, B, C, D)*5,\n",
    "                   fourpl(data.iloc[2,1],A, B, C, D)*5,fourpl(data.iloc[3,1],A, B, C, D)*5,\n",
    "                   fourpl(data.iloc[4,1],A, B, C, D)*10,fourpl(data.iloc[5,1],A, B, C, D)*5,\n",
    "                   fourpl(data.iloc[6,1],A, B, C, D)*10,fourpl(data.iloc[7,1],A, B, C, D)*5],\n",
    "                   'Dilutions':['5 fold','5 fold','5 fold','5 fold','5 fold','5 fold','5 fold','5 fold']}\n",
    "df_unsamp = pd.DataFrame(comp_values)\n",
    "df_unsamp\n"
   ]
  },
  {
   "attachments": {},
   "cell_type": "markdown",
   "metadata": {},
   "source": [
    "### Conclusion\n",
    "Based on the results of our pilot study on four subjects, it appears that the intervention had a success rate of 50 percent in improving BDNF levels. Specifically, while BDNF levels improved in two of the subjects, the other two did not show significant improvement. These findings suggest that the intervention may be effective for some individuals, but further research is needed to confirm these observations."
   ]
  }
 ],
 "metadata": {
  "kernelspec": {
   "display_name": "Python 3.9.5 ('ds')",
   "language": "python",
   "name": "python3"
  },
  "language_info": {
   "codemirror_mode": {
    "name": "ipython",
    "version": 3
   },
   "file_extension": ".py",
   "mimetype": "text/x-python",
   "name": "python",
   "nbconvert_exporter": "python",
   "pygments_lexer": "ipython3",
   "version": "3.9.5"
  },
  "orig_nbformat": 4,
  "vscode": {
   "interpreter": {
    "hash": "37e48532695005f6b8be481dca9311b0406960c07b920c9bcff5b3361c45626c"
   }
  }
 },
 "nbformat": 4,
 "nbformat_minor": 2
}
